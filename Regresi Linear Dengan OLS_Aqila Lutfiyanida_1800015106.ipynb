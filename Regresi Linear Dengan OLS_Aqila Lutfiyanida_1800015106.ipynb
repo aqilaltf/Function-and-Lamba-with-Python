{
 "cells": [
  {
   "cell_type": "markdown",
   "id": "03e62945",
   "metadata": {},
   "source": [
    "# Pembuka"
   ]
  },
  {
   "cell_type": "markdown",
   "id": "214cbc17",
   "metadata": {},
   "source": [
    "Assalamu'alaikum warahmatullahi wabarakatuh. Puji syukur kehadirat Allah Subhana Wata'ala atas limpahan Rahmat dan HidayahNya kepada kita semua. Sholawat serta salam senantiasa tercurah limpahkan kepada baginda Muhammad Rasulullah Salallahualaihiwassalam.\n",
    "\n",
    "Halo para **Pejuang Data**. Selamat berjumpa di pertemuan ketiga Program Training **Algoritma Machine Learning** Kelas Mahir.\n",
    "Pada pertemuan ini kamu akan belajar:\n",
    "* Model Regresi Linear Sederhana\n",
    "* Ordinary Least Mean Square\n",
    "* Contoh Perhitungan Manual Regresi Linear dengan OLS\n",
    "* Regresi Linear Python From Scratch"
   ]
  },
  {
   "cell_type": "markdown",
   "id": "17e653f4",
   "metadata": {},
   "source": [
    "# Model Regresi Linear Sederhana"
   ]
  },
  {
   "cell_type": "markdown",
   "id": "80cc302d",
   "metadata": {},
   "source": [
    "Regresi Linear adalah metode untuk mendefinisikan hubungan linear antara variabel dependen **Y** dan variabel independen **X**. Secara sederhana dapat dituliskan dalam formula berikut:"
   ]
  },
  {
   "cell_type": "markdown",
   "id": "23150c35",
   "metadata": {},
   "source": [
    "$$ Y_i = b_0 + b_1X_i + \\epsilon_i $$"
   ]
  },
  {
   "cell_type": "markdown",
   "id": "fb72a138",
   "metadata": {},
   "source": [
    "Yang mana $Y_i$ adalah variabel dependen, $X_i$ adalah variabel independen, $\\epsilon_i$ adalah kesalahan acak, $b_0$ disebut sebagai intercept dan $b_1$ disebut sebagai koefisien regresi yang dapat diestimasi berdasarkan data $Y_i$ dan $X_i$ yang diberikan. Koefisien $b_0$ juga biasa disebut sebagai bias. Tujuan utama dari model ini adalah untuk mengambarkan garis linear dengan kesesuaian terbaik(best fit) antara X dan Y yang mengestimasi hubungan antara X dan Y.\n",
    "\n",
    "Lalu bagaimana untuk mengestimasi koefisien tersebut? Salah satu pendekatan yang dapat dilakukan adalah mengunakan metode **Ordinary Least Mean Square Method** . Pada python notebook ini, kita akan mengimplementasikan metode Ordinary Least Mean Square Method.\n"
   ]
  },
  {
   "cell_type": "markdown",
   "id": "c400516c",
   "metadata": {},
   "source": [
    "# Ordinary Least Mean Square"
   ]
  },
  {
   "cell_type": "markdown",
   "id": "2ef2fd31",
   "metadata": {},
   "source": [
    "Sebelumnya kita telah membahas tentang estimasi hubungan antara X dan Y pada sebuah garis. Misalnya, kita sediakan input dan output sampel, kemudian kita memplot titik titik data ini pada grafik 2 dimensi, maka akan dihasilkan grafik seperti di bawah ini:"
   ]
  },
  {
   "cell_type": "markdown",
   "id": "400b0504",
   "metadata": {},
   "source": [
    "![title](https://raw.githubusercontent.com/jokoeliyanto/Channel-Hobi-Data/main/Model%20Machine%20Learning%20dari%20Dasar(From%20Scratch)%20Python/Header%20Image/Data%20Regresi.png)"
   ]
  },
  {
   "cell_type": "markdown",
   "id": "2049ecbe",
   "metadata": {},
   "source": [
    "Garis merah pada grafik adalah hubungan sesungguhnya yang ingin disetimasi. Kita berusaha untuk meminimalkan kesalahan model yang kita bangun. Garis ini adalah garis yang paling tepat menggambarkan hubungan antara data X dan Y dengan melewati sebagian besar titik data dan memiliki kesalahan yang paling minimal. Kesalahan ini berupa jarak titik data ke garis estimasi model ini. Secara konseptual kesalahan ini diilustrasikan pada gambar di bawah ini."
   ]
  },
  {
   "cell_type": "markdown",
   "id": "2d04ee30",
   "metadata": {},
   "source": [
    "![title](https://raw.githubusercontent.com/jokoeliyanto/Channel-Hobi-Data/main/Model%20Machine%20Learning%20dari%20Dasar(From%20Scratch)%20Python/Header%20Image/LS.gif)"
   ]
  },
  {
   "cell_type": "markdown",
   "id": "82b6652f",
   "metadata": {},
   "source": [
    "Dan kesalahan total model linier adalah jumlah kesalahan dari setiap titiknya, yaitu:"
   ]
  },
  {
   "cell_type": "markdown",
   "id": "b00be571",
   "metadata": {},
   "source": [
    "$$ \\sum \\limits^{n}_{i=1} \\epsilon_i^2 $$"
   ]
  },
  {
   "cell_type": "markdown",
   "id": "8440cfee",
   "metadata": {},
   "source": [
    "$\\epsilon_i^2$ = Jarak antara garis ke titik data ke-i\n",
    "\n",
    "$n$ = Jumlah total titik data"
   ]
  },
  {
   "cell_type": "markdown",
   "id": "43110e1b",
   "metadata": {},
   "source": [
    "Formula di atas diperoleh dari:"
   ]
  },
  {
   "cell_type": "markdown",
   "id": "09e5ed67",
   "metadata": {},
   "source": [
    "$$ y_i = b_0 + b_1.x_i + \\epsilon_i $$\n",
    "\n",
    "$$ \\epsilon_i = y_i - b_0 - b_1.x_i $$\n",
    "\n",
    "$$ \\sum \\limits^{n}_{i=1} \\epsilon_i^2 = \\sum \\limits^{n}_{i=1} (y_i - b_0 - b_1.x_i)^2 $$"
   ]
  },
  {
   "cell_type": "markdown",
   "id": "d5ce003b",
   "metadata": {},
   "source": [
    "Pada baris terakhir persamaan di atas kita **mengkuadratkan kesalahan yang berupa jarak antara garis estimasi dengan titik data**. Kita dapat mengkuadratkan masing-masing jarak karena terdapat beberapa titik di atas garis dan beberapa di bawahnya. Kemudian, untuk memperoleh model terbaik jarak tersebut dapat kita minimumkan. Misal $ \\sum \\limits^{n}_{i=1} \\epsilon_i^2 = J $"
   ]
  },
  {
   "cell_type": "markdown",
   "id": "94e1dbd5",
   "metadata": {},
   "source": [
    "Ide Dasar Metode OLS: **Nilai minimum dari fungsi kesalahan $ \\sum \\limits^{n}_{i=1} \\epsilon_i^2 $ terjadi saat turunan pertama terhadap koefisien $b_0$ dan $b_1$ sama dengan 0. Ini merujuk pada konsep dasar turunan fungsi dalam kalkulus yaitu nilai minimum suatu fungsi terjadi saat turunan pertamanya sama dengan 0**.\n",
    "\n",
    "Konsep ini kemudian diperluas menjadi metode Gradient Descent.\n",
    "\n",
    "**Mencari nilai minimum untuk $b_0$**"
   ]
  },
  {
   "cell_type": "markdown",
   "id": "11f91e96",
   "metadata": {},
   "source": [
    "<center>\n",
    "    $\\begin{eqnarray}\n",
    "    J &=& \\sum \\limits^{n}_{i=1} (y_i - b_0 - b_1.x_i)^2\\\\\n",
    "    \\frac{\\partial J}{\\partial b_0} &=& 2 \\sum \\limits^{n}_{i=1} (y_i - b_0 - b_1.x_i)^{(2-1)}.(-1)\\\\\n",
    "    \\frac{\\partial J}{\\partial b_0} &=& -2 \\sum \\limits^{n}_{i=1} (y_i - b_0 - b_1.x_i)\\\\\n",
    "    \\frac{\\partial J}{\\partial b_0} &=& 0\\\\\n",
    "    \\sum \\limits^{n}_{i=1} (y_i - \\hat{b_0} - \\hat{b_1}.x_i) &=& 0\\\\\n",
    "    \\sum \\limits^{n}_{i=1} y_i - n\\hat{b_0} - \\hat{b_1} \\sum \\limits^{n}_{i=1} x_i &=& 0\\\\\n",
    "    n\\hat{b_0} &=& \\sum \\limits^{n}_{i=1} y_i - \\hat{b_1} \\sum \\limits^{n}_{i=1} x_i\\\\\n",
    "    \\hat{b_0} &=& \\frac{\\sum \\limits^{n}_{i=1} y_i - \\hat{b_1} \\sum \\limits^{n}_{i=1} x_i}{n}\\\\\n",
    "    \\hat{b_0} &=& \\bar{y} - \\hat{b_1}\\bar{x}\\\\\n",
    "    \\end{eqnarray}$"
   ]
  },
  {
   "cell_type": "markdown",
   "id": "96e6b7e3",
   "metadata": {},
   "source": [
    "Sehingga diperoleh formula untuk $b_0$ adalah"
   ]
  },
  {
   "cell_type": "markdown",
   "id": "3ad95d50",
   "metadata": {},
   "source": [
    "$$ \\hat{b_0} = \\bar{y} - \\hat{b_1}\\bar{x} $$"
   ]
  },
  {
   "cell_type": "markdown",
   "id": "560c92d1",
   "metadata": {},
   "source": [
    "**Mencari nilai minimum untuk $b_1$**"
   ]
  },
  {
   "cell_type": "markdown",
   "id": "49e0078c",
   "metadata": {},
   "source": [
    "<center>\n",
    "    $\\begin{eqnarray}\n",
    "    J &=& \\sum \\limits^{n}_{i=1} (y_i - b_0 - b_1.x_i)^2\\\\\n",
    "    \\frac{\\partial J}{\\partial b_1} &=& 2 \\sum \\limits^{n}_{i=1} (y_i - b_0 - b_1.x_i)^{(2-1)}.(-x_i)\\\\\n",
    "    \\frac{\\partial J}{\\partial b_1} &=& -2 \\sum \\limits^{n}_{i=1} (x_i.y_i - b_0.x_i - b_1.x_i^2)\\\\\n",
    "    \\frac{\\partial J}{\\partial b_0} &=& 0\\\\\n",
    "    \\sum \\limits^{n}_{i=1} x_i.y_i - \\hat{b_0}\\sum \n",
    " \\limits^{n}_{i=1} x_i - \\hat{b_1}\\sum \n",
    " \\limits^{n}_{i=1} x_i^2 &=& 0\\\\\n",
    " \\sum \\limits^{n}_{i=1} x_i.y_i - \\left(\\frac{\\sum \\limits^{n}_{i=1} y_i - \\hat{b_1}\\sum \n",
    " \\limits^{n}_{i=1} x_i}{n}\\right) \\sum \\limits^{n}_{i=1} x_i - \\hat{b_1}\\sum \n",
    " \\limits^{n}_{i=1} x_i^2 &=& 0\\\\\n",
    "    \\sum \\limits^{n}_{i=1} x_i.y_i - \\frac{\\sum \\limits^{n}_{i=1} x_i \\sum \n",
    " \\limits^{n}_{i=1} y_i}{n} + \\hat{b_1}\\frac{\\left(\\sum \\limits^{n}_{i=1} x_i\\right)^2}{n} - \\hat{b_1}\\sum \\limits^{n}_{i=1} x_i^2 &=& 0\\\\\n",
    "    \\hat{b_1} \\left(\\frac{\\left(\\sum \\limits^{n}_{i=1} x_i\\right)^2}{n} - \\sum \\limits^{n}_{i=1} x_i^2\\right) &=& \\frac{\\sum \\limits^{n}_{i=1} x_i \\sum \n",
    " \\limits^{n}_{i=1} y_i}{n} - \\sum \\limits^{n}_{i=1} x_i.y_i\\\\\n",
    "    \\hat{b_1} &=& \\frac{\\sum \\limits^{n}_{i=1} x_i.y_i - \\frac{\\sum \\limits^{n}_{i=1} x_i \\sum \n",
    " \\limits^{n}_{i=1} y_i}{n}}{\\sum \\limits^{n}_{i=1} x_i^2 - \\frac{\\left(\\sum \\limits^{n}_{i=1} x_i\\right)^2}{n}}\\\\\n",
    "    \\end{eqnarray}$"
   ]
  },
  {
   "cell_type": "markdown",
   "id": "2c23570f",
   "metadata": {},
   "source": [
    "Sehingga diperoleh formula untuk $b_1$ adalah"
   ]
  },
  {
   "cell_type": "markdown",
   "id": "6cf1ca6b",
   "metadata": {},
   "source": [
    "$$\\hat{b_1} = \\frac{\\sum \\limits^{n}_{i=1} x_i.y_i - \\frac{\\sum \\limits^{n}_{i=1} x_i \\sum \\limits^{n}_{i=1} y_i}{n}}{\\sum \\limits^{n}_{i=1} x_i^2 - \\frac{\\left(\\sum \\limits^{n}_{i=1} x_i\\right)^2}{n}}$$"
   ]
  },
  {
   "cell_type": "markdown",
   "id": "6b337424",
   "metadata": {},
   "source": [
    "Persamaan terakhir bisa ditulis ulang untuk kemudahan pemrograman sebagai berikut:"
   ]
  },
  {
   "cell_type": "markdown",
   "id": "3db7124d",
   "metadata": {},
   "source": [
    "$$\\hat{b_1} = \\frac{\\sum \\limits^{n}_{i=1} (x_i - \\bar{x})(y_i - \\bar{y})}{\\sum \\limits^{n}_{i=1} (x_i - \\bar{x})^2}$$"
   ]
  },
  {
   "cell_type": "markdown",
   "id": "6fe63296",
   "metadata": {},
   "source": [
    "# Contoh Perhitungan Manual Regresi Linear dengan OLS"
   ]
  },
  {
   "cell_type": "markdown",
   "id": "06ea6661",
   "metadata": {},
   "source": [
    "Diketahui data X dan Y adalah sebagai berikut(Y=2X-1):"
   ]
  },
  {
   "attachments": {
    "Screenshot%202021-10-09%20200935.jpg": {
     "image/jpeg": "[encoded data removed]"
    }
   },
   "cell_type": "markdown",
   "id": "abb418bd",
   "metadata": {},
   "source": [
    "![Screenshot%202021-10-09%20200935.jpg](attachment:Screenshot%202021-10-09%20200935.jpg)"
   ]
  },
  {
   "cell_type": "markdown",
   "id": "b4fea84b",
   "metadata": {},
   "source": [
    "Berikut adalah proses menghitung model Regresi Linear dari data di atas:"
   ]
  },
  {
   "cell_type": "markdown",
   "id": "6c2e92ba",
   "metadata": {},
   "source": [
    "**1. Menghitung rata-rata X dan Y**"
   ]
  },
  {
   "cell_type": "markdown",
   "id": "859b1394",
   "metadata": {},
   "source": [
    "$$n=6$$\n",
    "\n",
    "$$\\bar{x} = \\frac{1+3+5+6+7+8}{6} = \\frac{30}{6} = 5$$\n",
    "\n",
    "$$\\bar{y} = \\frac{1+5+9+11+13+15}{6} = \\frac{54}{6} = 9$$"
   ]
  },
  {
   "cell_type": "markdown",
   "id": "bc41858d",
   "metadata": {},
   "source": [
    "**2. Menghitung $b_1$**"
   ]
  },
  {
   "cell_type": "markdown",
   "id": "36de2c21",
   "metadata": {},
   "source": [
    "$\\begin{eqnarray}\n",
    "\\hat{b_1} &=& \\frac{\\sum \\limits^{n}_{i=1} (x_i - \\bar{x})(y_i - \\bar{y})}{\\sum \\limits^{n}_{i=1} (x_i - \\bar{x})^2}\\\\\n",
    "\\hat{b_1} &=& \\frac{\\left( [1 − 5][1 − 9] + [3 − 5][5 − 9] + [5 − 5][9 − 9] + [6 − 5][11 − 9] + [7 − 5][13 − 9] + [8 − 5]\\right)}{\\left([1-5]^2+[3-5]^2+[5-5]^2+[6-5]^2+[7-5]^2+[8-5]^2\\right)}\\\\\n",
    "\\hat{b_1} &=& \\frac{\\left((−4)(−8) + (−2)(−4) + (0)(0) + (1)(2) + (2)(4) + (3)(6)\\right)}{\\left((-4)^2+(-2)^2+0^2+1^2+2^2+3^2\\right)}\\\\\n",
    "\\hat{b_1} &=& \\frac{32 + 8 + 0 + 2 + 8 + 18}{16 + 4 + 0 + 1 + 4 + 9}\\\\\n",
    "\\hat{b_1} &=& \\frac{68}{34}\\\\\n",
    "\\hat{b_1} &=& 2\\\\\n",
    "\\end{eqnarray}$"
   ]
  },
  {
   "cell_type": "markdown",
   "id": "35de7356",
   "metadata": {},
   "source": [
    "**2. Menghitung $b_0$**"
   ]
  },
  {
   "cell_type": "markdown",
   "id": "d0417d88",
   "metadata": {},
   "source": [
    "<center>\n",
    "    $\\begin{eqnarray}\n",
    "    \\hat{b_0} = \\bar{y}-\\hat{b_1}\\bar{x}\\\\\n",
    "    \\hat{b_0} = 9 - (2) \\times 5\\\\\n",
    "    \\hat{b_0} = -1\\\\\n",
    "    \\end{eqnarray}$"
   ]
  },
  {
   "cell_type": "markdown",
   "id": "15b17bab",
   "metadata": {},
   "source": [
    "**3. Menyusun Persamaan Regresi Linear**"
   ]
  },
  {
   "cell_type": "markdown",
   "id": "2a30c9b4",
   "metadata": {},
   "source": [
    "<center>\n",
    "    $\\begin{eqnarray}\n",
    "    Y = \\hat{b_0} + \\hat{b_1}X\\\\\n",
    "    Y = -1 + 2X\\\\\n",
    "    \\end{eqnarray}$"
   ]
  },
  {
   "cell_type": "markdown",
   "id": "bcc7162b",
   "metadata": {},
   "source": [
    "# Regresi Linear Python From Scratch"
   ]
  },
  {
   "cell_type": "markdown",
   "id": "caed95ae",
   "metadata": {},
   "source": [
    "**Membangun Model Regresi Linear**\n",
    "\n",
    "Pertama, import library python yang dibutuhkan yaitu:\n",
    "* Numpy\n",
    "* Pandas\n",
    "* Matplotlib"
   ]
  },
  {
   "cell_type": "code",
   "execution_count": 1,
   "id": "d0853619",
   "metadata": {},
   "outputs": [],
   "source": [
    "import numpy as np\n",
    "import pandas as pd\n",
    "import matplotlib.pyplot as plt\n",
    "from sklearn.model_selection import train_test_split\n",
    "%matplotlib inline"
   ]
  },
  {
   "cell_type": "markdown",
   "id": "51477a1c",
   "metadata": {},
   "source": [
    "Untuk memahami konsep, kita akan menggunakan data X dan Y seperti yang kita tunjukkan pada proses penghitungan manual."
   ]
  },
  {
   "cell_type": "code",
   "execution_count": 5,
   "id": "c908a2e5",
   "metadata": {},
   "outputs": [],
   "source": [
    "X_train=np.array([1, 3, 5, 6, 7, 8])\n",
    "y_train=np.array([1, 5, 9, 11, 13, 15])"
   ]
  },
  {
   "cell_type": "code",
   "execution_count": 6,
   "id": "de68da95",
   "metadata": {},
   "outputs": [
    {
     "name": "stdout",
     "output_type": "stream",
     "text": [
      "Rata-rata X: 5.0\n",
      "Rata-rata Y: 9.0\n",
      "Jumlah data(n): 9.0\n",
      "( 1 - 5.0 ) * ( 1 - 9.0 ) = 32.0\n",
      "( 1 - 5.0 ) ^2  = 16.0\n",
      "( 3 - 5.0 ) * ( 5 - 9.0 ) = 8.0\n",
      "( 3 - 5.0 ) ^2  = 4.0\n",
      "( 5 - 5.0 ) * ( 9 - 9.0 ) = 0.0\n",
      "( 5 - 5.0 ) ^2  = 0.0\n",
      "( 6 - 5.0 ) * ( 11 - 9.0 ) = 2.0\n",
      "( 6 - 5.0 ) ^2  = 1.0\n",
      "( 7 - 5.0 ) * ( 13 - 9.0 ) = 8.0\n",
      "( 7 - 5.0 ) ^2  = 4.0\n",
      "( 8 - 5.0 ) * ( 15 - 9.0 ) = 18.0\n",
      "( 8 - 5.0 ) ^2  = 9.0\n",
      "Pembilang = 68.0\n",
      "Penyebut = 34.0\n",
      "b_1 = 2.0\n",
      "b_0 = -1.0\n"
     ]
    }
   ],
   "source": [
    "# Proses Training Model\n",
    "\n",
    "# Menghitung rata-rata inputs and outputs\n",
    "x_rata2 = np.mean(X_train)\n",
    "print(\"Rata-rata X:\", x_rata2)\n",
    "y_rata2 = np.mean(y_train)\n",
    "print(\"Rata-rata Y:\", y_rata2)\n",
    "\n",
    "# Jumlah data\n",
    "n = len(X_train)\n",
    "print(\"Jumlah data(n):\", y_rata2)\n",
    "\n",
    "# Menuliskan formula untuk menghitung beta 0 dan beta 1\n",
    "A = 0\n",
    "B = 0\n",
    "for i in range(n):\n",
    "    a = (X_train[i] - x_rata2) * (y_train[i] - y_rata2)\n",
    "    print(\"(\",X_train[i], \"-\", x_rata2, \")\", \"*\", \"(\", y_train[i], \"-\", y_rata2, \") =\", a )\n",
    "    A += a\n",
    "    b = (X_train[i] - x_rata2) ** 2\n",
    "    print(\"(\", X_train[i], \"-\", x_rata2, \")\", \"^2\", \" =\", b )\n",
    "    B += b\n",
    "\n",
    "print(\"Pembilang =\", A)\n",
    "print(\"Penyebut =\", B)\n",
    "\n",
    "# Menampilkan Koefisien Regresi Linear\n",
    "b_1 = A / B\n",
    "print(\"b_1 =\", b_1)\n",
    "b_0 = y_rata2 - (b_1 * x_rata2)\n",
    "print(\"b_0 =\", b_0)"
   ]
  },
  {
   "cell_type": "code",
   "execution_count": 7,
   "id": "a20fc526",
   "metadata": {},
   "outputs": [
    {
     "data": {
      "image/png": "[encoded data removed]",
      "text/plain": [
       "<Figure size 432x288 with 1 Axes>"
      ]
     },
     "metadata": {
      "needs_background": "light"
     },
     "output_type": "display_data"
    }
   ],
   "source": [
    "# Plot Nilai Data\n",
    "x_max = np.max(X_train)\n",
    "x_min = np.min(X_train)\n",
    "\n",
    "# Garis Regresi\n",
    "x = np.linspace(x_min, x_max, 1000)\n",
    "y = b_0 + b_1 * x\n",
    "\n",
    "# Plott Garis Regresi\n",
    "plt.plot(x, y, color='red', label='Regresi Linear')\n",
    "\n",
    "# Plot Titik Data\n",
    "plt.scatter(X_train, y_train, color='blue', label='Data')\n",
    "\n",
    "# Label sumbu\n",
    "plt.xlabel('X')\n",
    "\n",
    "# Label sumbu y\n",
    "plt.ylabel('Y')\n",
    "\n",
    "# Menampilkan Legenda\n",
    "plt.legend()\n",
    "\n",
    "# Menampilkan Gambar Hasil Plot\n",
    "plt.show()"
   ]
  },
  {
   "cell_type": "markdown",
   "id": "9e0fb57a",
   "metadata": {},
   "source": [
    "# Implementasi Model Regresi Linear Pada Data Real"
   ]
  },
  {
   "cell_type": "markdown",
   "id": "518094e2",
   "metadata": {},
   "source": [
    "Kita akan menggunakan dataset yang berisi **Nilai Ulangan Matematika** dan **Lama Waktu Belajar Matematika**."
   ]
  },
  {
   "cell_type": "markdown",
   "id": "38034f87",
   "metadata": {},
   "source": [
    "Mencari hubungan antara data X(Nilai Ulangan Matematika) dan Y(Lama Waktu Belajar Matematika)"
   ]
  },
  {
   "cell_type": "code",
   "execution_count": 10,
   "id": "f1ed28e0",
   "metadata": {},
   "outputs": [
    {
     "name": "stdout",
     "output_type": "stream",
     "text": [
      "(12, 2)\n"
     ]
    },
    {
     "data": {
      "text/html": [
       "<div>\n",
       "<style scoped>\n",
       "    .dataframe tbody tr th:only-of-type {\n",
       "        vertical-align: middle;\n",
       "    }\n",
       "\n",
       "    .dataframe tbody tr th {\n",
       "        vertical-align: top;\n",
       "    }\n",
       "\n",
       "    .dataframe thead th {\n",
       "        text-align: right;\n",
       "    }\n",
       "</style>\n",
       "<table border=\"1\" class=\"dataframe\">\n",
       "  <thead>\n",
       "    <tr style=\"text-align: right;\">\n",
       "      <th></th>\n",
       "      <th>Nilai Ulangan Matematika</th>\n",
       "      <th>Lama Waktu Belajar Matematika</th>\n",
       "    </tr>\n",
       "  </thead>\n",
       "  <tbody>\n",
       "    <tr>\n",
       "      <th>0</th>\n",
       "      <td>18</td>\n",
       "      <td>95</td>\n",
       "    </tr>\n",
       "    <tr>\n",
       "      <th>1</th>\n",
       "      <td>18</td>\n",
       "      <td>100</td>\n",
       "    </tr>\n",
       "    <tr>\n",
       "      <th>2</th>\n",
       "      <td>19</td>\n",
       "      <td>100</td>\n",
       "    </tr>\n",
       "    <tr>\n",
       "      <th>3</th>\n",
       "      <td>17</td>\n",
       "      <td>80</td>\n",
       "    </tr>\n",
       "    <tr>\n",
       "      <th>4</th>\n",
       "      <td>14</td>\n",
       "      <td>70</td>\n",
       "    </tr>\n",
       "  </tbody>\n",
       "</table>\n",
       "</div>"
      ],
      "text/plain": [
       "   Nilai Ulangan Matematika  Lama Waktu Belajar Matematika\n",
       "0                        18                             95\n",
       "1                        18                            100\n",
       "2                        19                            100\n",
       "3                        17                             80\n",
       "4                        14                             70"
      ]
     },
     "execution_count": 10,
     "metadata": {},
     "output_type": "execute_result"
    }
   ],
   "source": [
    "import pandas as pd\n",
    "dataset = pd.read_csv(r'C:\\Users\\User\\Downloads\\data_nilai.csv')\n",
    "# Melihat ukuran dataset\n",
    "print(dataset.shape)\n",
    "# Menampilkan 5 data teratas\n",
    "dataset.head()"
   ]
  },
  {
   "cell_type": "markdown",
   "id": "8a011198",
   "metadata": {},
   "source": [
    "Mencari hubungan antara data X(Tahun Bekerja) dan Y(Gaji)"
   ]
  },
  {
   "cell_type": "code",
   "execution_count": 12,
   "id": "07b1aea3",
   "metadata": {},
   "outputs": [],
   "source": [
    "# Definisikan Variabel Input(X) dan Output(Y)\n",
    "X = dataset['Nilai Ulangan Matematika'].values.reshape(-1,1)\n",
    "Y = dataset['Lama Waktu Belajar Matematika'].values.reshape(-1,1)"
   ]
  },
  {
   "cell_type": "code",
   "execution_count": 13,
   "id": "fd6c7488",
   "metadata": {},
   "outputs": [],
   "source": [
    "# Membagi data menjadi data training dan data testing\n",
    "X_train, X_test, y_train, y_test = train_test_split(X, Y, test_size=0.2, random_state=0)"
   ]
  },
  {
   "cell_type": "code",
   "execution_count": 14,
   "id": "61d6b4c6",
   "metadata": {},
   "outputs": [
    {
     "name": "stdout",
     "output_type": "stream",
     "text": [
      "[40.93425606] [2.72923875]\n"
     ]
    }
   ],
   "source": [
    "# Proses Training Model\n",
    "# Menghitung rata-rata inputs and outputs\n",
    "x_rata2 = np.mean(X_train)\n",
    "y_rata2 = np.mean(y_train)\n",
    "# Jumlah data\n",
    "n = len(X_train)\n",
    "# Menuliskan formula untuk menghitung beta 0 dan beta 1\n",
    "A = 0\n",
    "B = 0\n",
    "for i in range(n):\n",
    " A += (X_train[i] - x_rata2) * (y_train[i] - y_rata2)\n",
    " B += (X_train[i] - x_rata2) ** 2\n",
    "\n",
    "b_1 = A / B\n",
    "b_0 = y_rata2 - (b_1 * x_rata2)\n",
    "# Menampilkan Koefisien Regresi Linear\n",
    "print(b_0, b_1)"
   ]
  },
  {
   "cell_type": "markdown",
   "id": "0c17d7aa",
   "metadata": {},
   "source": [
    "Dalam notasi matematika, hasil ini dapat ditulis sebagai berikut:\n",
    "\n",
    "    Brain weights = 40.93425606 + 2.72923875] * Nilai Ulangan Matematika\n",
    "\n",
    "Sekarang kita memiliki model linier. Mari kita plot secara grafis."
   ]
  },
  {
   "cell_type": "code",
   "execution_count": 15,
   "id": "d597349e",
   "metadata": {},
   "outputs": [
    {
     "data": {
      "image/png": "[encoded data removed]",
      "text/plain": [
       "<Figure size 432x288 with 1 Axes>"
      ]
     },
     "metadata": {
      "needs_background": "light"
     },
     "output_type": "display_data"
    }
   ],
   "source": [
    "# Plot Nilai Data\n",
    "x_max = np.max(X) + 100\n",
    "x_min = np.min(X) - 100\n",
    "# Garis Regresi\n",
    "x = np.linspace(x_min, x_max, 1000)\n",
    "y = b_0 + b_1 * x\n",
    "# Plott Garis Regresi\n",
    "plt.plot(x, y, color='red', label='Regresi Linear')\n",
    "# Plot Titik Data\n",
    "plt.scatter(X, Y, color='blue', label='Data')\n",
    "# Label sumbu\n",
    "plt.xlabel('Head Size (cm^3)')\n",
    "# Label sumbu y\n",
    "plt.ylabel('Brain Weight (grams)')\n",
    "# Menampilkan Legenda\n",
    "plt.legend()\n",
    "# Menampilkan Gambar Hasil Plot\n",
    "plt.show()"
   ]
  },
  {
   "cell_type": "markdown",
   "id": "01a5cd56",
   "metadata": {},
   "source": [
    "# Evaluasi Model"
   ]
  },
  {
   "cell_type": "markdown",
   "id": "8cfc3d11",
   "metadata": {},
   "source": [
    "Kita perlu mengukur tingkat ketepatan(akurasi) model yang telah diperoleh. Terdapat banyak metode untuk melakukan hal ini, namun pada artikel ini kita memilih menggunakan **Root Mean Square Error** dan **Koefisien Determinasi ($𝑅^2$ Skor)**"
   ]
  },
  {
   "cell_type": "markdown",
   "id": "f0f2ed7d",
   "metadata": {},
   "source": [
    "$$ RMSE = \\sqrt{\\frac{1}{n} \\sum \\limits^{n}_{i=1} (y_i - \\hat{y_i})^2} $$"
   ]
  },
  {
   "cell_type": "markdown",
   "id": "b05739a5",
   "metadata": {},
   "source": [
    "$\\hat{y_i}$ adalah nilai hasil prediksi ke-i. Berikut adalah penulisan kode untuk RMSE"
   ]
  },
  {
   "cell_type": "code",
   "execution_count": 16,
   "id": "1fe28c52",
   "metadata": {},
   "outputs": [
    {
     "name": "stdout",
     "output_type": "stream",
     "text": [
      "[9.74023474]\n"
     ]
    }
   ],
   "source": [
    "rmse = 0\n",
    "for i in range(len(X_test)):\n",
    " y_pred= b_0 + b_1* X_test[i]\n",
    " rmse += (y_test[i] - y_pred) ** 2\n",
    "\n",
    "rmse = np.sqrt(rmse/n)\n",
    "print(rmse)"
   ]
  },
  {
   "cell_type": "markdown",
   "id": "801df9dc",
   "metadata": {},
   "source": [
    "Selanjutnya, mari kita hitung nilai $𝑅^2$ skor untuk mengukur tingkat akurasi dari model linear yang diperoleh, secara matematis $𝑅^2$ dituliskan sebagai berikut:"
   ]
  },
  {
   "cell_type": "markdown",
   "id": "d3689837",
   "metadata": {},
   "source": [
    "$$ 𝑅^2 = 1 - \\frac{SSE}{SST} = 1 - \\frac{\\sum \\limits (\\hat{y_i} - \\bar{y})^2}{\\sum \\limits (y_i - \\bar{y})^2} $$"
   ]
  },
  {
   "cell_type": "markdown",
   "id": "69704f8a",
   "metadata": {},
   "source": [
    "SSE adalah jumlah kuadrat galat sedangkan SST jumlah kuadrat total.\n",
    "\n",
    "$ 𝑅^2 $ skor biasanya memiliki nilai antara 0 hingga 1. Nilai ini juga bisa bernilai negatif jika model regresi benar-benar salah. Di bawah ini adalah kode pemrograman untuk menghitung $ 𝑅^2 $ skor"
   ]
  },
  {
   "cell_type": "code",
   "execution_count": 17,
   "id": "0d55e3b8",
   "metadata": {},
   "outputs": [
    {
     "name": "stdout",
     "output_type": "stream",
     "text": [
      "Koefisien Determinasi: [0.16014798]\n"
     ]
    }
   ],
   "source": [
    "SST = 0\n",
    "SSE = 0\n",
    "y_pred= b_0 + b_1*X_test\n",
    "y_rata2 = np.mean(y_test)\n",
    "for i in range(len(X_test)) :\n",
    " SST += (y_test[i] - y_rata2) ** 2\n",
    " SSE += (y_test[i] - y_pred[i]) **2\n",
    "score = 1- (SSE/SST)\n",
    "print(\"Koefisien Determinasi:\", score)"
   ]
  }
 ],
 "metadata": {
  "kernelspec": {
   "display_name": "Python 3",
   "language": "python",
   "name": "python3"
  },
  "language_info": {
   "codemirror_mode": {
    "name": "ipython",
    "version": 3
   },
   "file_extension": ".py",
   "mimetype": "text/x-python",
   "name": "python",
   "nbconvert_exporter": "python",
   "pygments_lexer": "ipython3",
   "version": "3.9.7"
  }
 },
 "nbformat": 4,
 "nbformat_minor": 5
}
