{
 "cells": [
  {
   "cell_type": "markdown",
   "id": "mobile-projection",
   "metadata": {},
   "source": [
    "# Pembuka"
   ]
  },
  {
   "cell_type": "markdown",
   "id": "speaking-kingston",
   "metadata": {},
   "source": [
    "Assalamu'alaikum warahmatullahi wabarakatuh. Puji syukur kehadirat Allah Subhana Wata'ala atas limpahan Rahmat dan HidayahNya kepada kita semua. Sholawat serta salam senantiasa tercurah limpahkan kepada baginda Muhammad Rasulullah Salallahualaihiwassalam.\n",
    "\n",
    "Halo para **Pejuang Data**. Selamat berjumpa di pertemuan pertama Program Training **Algoritma Machine Learning** Kelas Mahir.\n",
    "\n",
    "Pada pertemuan ini kamu akan belajar:\n",
    "* Fungsi Pada Python\n",
    "* Keyword & Argument\n",
    "* Membuat Fungsi Pada Python\n",
    "* Positional Argument & Keyword\n",
    "* Argument Default\n",
    "* Contoh User Defined Function\n",
    "* Latihan\n",
    "\n"
   ]
  },
  {
   "cell_type": "markdown",
   "id": "lined-brunswick",
   "metadata": {},
   "source": [
    "# Function"
   ]
  },
  {
   "cell_type": "markdown",
   "id": "owned-origin",
   "metadata": {},
   "source": [
    "Function adalah sebuah blok statemen yang hanya akan dijalankan saat ia dipanggil.!"
   ]
  },
  {
   "cell_type": "code",
   "execution_count": 1,
   "id": "active-monte",
   "metadata": {},
   "outputs": [
    {
     "data": {
      "text/plain": [
       "5"
      ]
     },
     "execution_count": 1,
     "metadata": {},
     "output_type": "execute_result"
    }
   ],
   "source": [
    "genap = [2,4,6,8,10]\n",
    "\n",
    "len(genap)"
   ]
  },
  {
   "cell_type": "code",
   "execution_count": 2,
   "id": "romantic-digest",
   "metadata": {},
   "outputs": [
    {
     "name": "stdout",
     "output_type": "stream",
     "text": [
      "Assalamualaikum Dunia\n"
     ]
    }
   ],
   "source": [
    "print('Assalamualaikum Dunia')"
   ]
  },
  {
   "cell_type": "markdown",
   "id": "quick-purple",
   "metadata": {},
   "source": [
    "# Keyword & Argument!"
   ]
  },
  {
   "cell_type": "markdown",
   "id": "stunning-portsmouth",
   "metadata": {},
   "source": [
    "**Keyword/Parameter** : variable yang digunakan dalam deklarasi fungsi\n",
    "\n",
    "**Argument** : nilai yang diberikan saat pemanggilan fungsi"
   ]
  },
  {
   "cell_type": "code",
   "execution_count": 3,
   "id": "novel-collector",
   "metadata": {},
   "outputs": [
    {
     "name": "stdout",
     "output_type": "stream",
     "text": [
      "kata1/kata2\n"
     ]
    }
   ],
   "source": [
    "# sep = keyword/argument\n",
    "# '-' = argument\n",
    "\n",
    "print('kata1', 'kata2', sep='/')"
   ]
  },
  {
   "cell_type": "markdown",
   "id": "incident-suggestion",
   "metadata": {},
   "source": [
    "# Membuat Fungsi "
   ]
  },
  {
   "cell_type": "markdown",
   "id": "revised-instrument",
   "metadata": {},
   "source": [
    "Python mengizinkan untuk mendeklarasikan fungsi dalam kode yang dituliskan yang dikenal dengan **user defined function**."
   ]
  },
  {
   "cell_type": "markdown",
   "id": "organic-welsh",
   "metadata": {},
   "source": [
    "def nama_fungsi(argument):\n",
    "    pernyataan_1\n",
    "    …\n",
    "    pernyataan_n\n",
    "    return nilai_keluaran"
   ]
  },
  {
   "cell_type": "code",
   "execution_count": 5,
   "id": "intended-egypt",
   "metadata": {},
   "outputs": [],
   "source": [
    "# Pendefinisian fungsi_kuadrat\n",
    "def fungsi_kuadrat(x):\n",
    "    hasil = x**2\n",
    "    return hasil"
   ]
  },
  {
   "cell_type": "code",
   "execution_count": 6,
   "id": "obvious-sequence",
   "metadata": {},
   "outputs": [],
   "source": [
    "# Alternatif pendefinisian fungsi_kuadrat\n",
    "def fungsi_kuadrat(x):\n",
    "    return x**2"
   ]
  },
  {
   "cell_type": "code",
   "execution_count": 7,
   "id": "angry-image",
   "metadata": {},
   "outputs": [
    {
     "data": {
      "text/plain": [
       "36"
      ]
     },
     "execution_count": 7,
     "metadata": {},
     "output_type": "execute_result"
    }
   ],
   "source": [
    "# Pemanggilan fungsi_kuadrat\n",
    "fungsi_kuadrat(6)"
   ]
  },
  {
   "cell_type": "markdown",
   "id": "joint-warren",
   "metadata": {},
   "source": [
    "# Positional Argument & Keyword"
   ]
  },
  {
   "cell_type": "markdown",
   "id": "colonial-certificate",
   "metadata": {},
   "source": [
    "Kita bisa menyatakan argumen sebagai positional argument atau keyword. Beberapa manfaat argumen kata kunci dapat berupa:\n",
    "* Kita dapat menyebut argumen dengan nama mereka untuk memperjelas apa yang mereka wakili\n",
    "* Kita dapat mengatur ulang argumen dengan cara yang membuatnya paling mudah dibaca\n"
   ]
  },
  {
   "cell_type": "code",
   "execution_count": 8,
   "id": "secure-albuquerque",
   "metadata": {},
   "outputs": [],
   "source": [
    "# Mendefinisikan fungsi dengan beberapa argumen\n",
    "def tampilkan_kata(a, b, c):\n",
    "    print(a, b, c)"
   ]
  },
  {
   "cell_type": "code",
   "execution_count": 9,
   "id": "broad-modern",
   "metadata": {},
   "outputs": [
    {
     "name": "stdout",
     "output_type": "stream",
     "text": [
      "aku kau dia\n"
     ]
    }
   ],
   "source": [
    "# Positional Arguments\n",
    "tampilkan_kata('aku', 'kau', 'dia')"
   ]
  },
  {
   "cell_type": "code",
   "execution_count": 10,
   "id": "handmade-eagle",
   "metadata": {},
   "outputs": [
    {
     "name": "stdout",
     "output_type": "stream",
     "text": [
      "kau aku dia\n"
     ]
    }
   ],
   "source": [
    "tampilkan_kata('kau', 'aku', 'dia')"
   ]
  },
  {
   "cell_type": "code",
   "execution_count": 11,
   "id": "frank-saturn",
   "metadata": {},
   "outputs": [
    {
     "name": "stdout",
     "output_type": "stream",
     "text": [
      "aku kau dia\n",
      "aku kau dia\n"
     ]
    }
   ],
   "source": [
    "# argumen berdasarkan keyword-nya\n",
    "tampilkan_kata(a='aku', b='kau', c='dia')\n",
    "tampilkan_kata(c='dia', b='kau', a='aku') "
   ]
  },
  {
   "cell_type": "markdown",
   "id": "unable-following",
   "metadata": {},
   "source": [
    "Catatan: jika sudah diberi kunci maka urutan tidak menjadi penting"
   ]
  },
  {
   "cell_type": "code",
   "execution_count": 12,
   "id": "catholic-professional",
   "metadata": {},
   "outputs": [
    {
     "name": "stdout",
     "output_type": "stream",
     "text": [
      "aku kau dia\n"
     ]
    }
   ],
   "source": [
    "# campuran antara argumen posisi dan argumen kata kunci\n",
    "tampilkan_kata('aku', b='kau', c='dia')"
   ]
  },
  {
   "cell_type": "markdown",
   "id": "northern-torture",
   "metadata": {},
   "source": [
    "Ini tidak diijinkan:\n",
    "* Positional argument setelah keyword argument\n",
    "tampilkan_kata('aku', b='kau', 'dia')\n",
    "* Terdapat dua nilai untuk satu keyword argument yang sama\n",
    "tampilkan_kata(1, b=2, a=3)"
   ]
  },
  {
   "cell_type": "markdown",
   "id": "hydraulic-johnston",
   "metadata": {},
   "source": [
    "# Argument Default"
   ]
  },
  {
   "cell_type": "markdown",
   "id": "biblical-philosophy",
   "metadata": {},
   "source": [
    "Fungsi dapat memiliki argumen default dengan nilai yang telah ditentukan sebelumnya. Argumen ini dapat ditinggalkan dan nilai default kemudian diteruskan ke fungsi, atau argumen dapat dirubah dengan nilai yang berbeda. Perhatikan bahwa argumen default harus ditentukan sebagai parameter terakhir dalam suatu fungsi.\n"
   ]
  },
  {
   "cell_type": "code",
   "execution_count": 1,
   "id": "declared-modeling",
   "metadata": {},
   "outputs": [
    {
     "name": "stdout",
     "output_type": "stream",
     "text": [
      "aku kau dia sahabat\n",
      "aku kau dia teman\n"
     ]
    }
   ],
   "source": [
    "# Argumen default\n",
    "def tampilkan_kata(a, b, c, d='sahabat'):\n",
    "    print(a, b, c, d)\n",
    "\n",
    "tampilkan_kata('aku', 'kau', 'dia')\n",
    "tampilkan_kata('aku', b='kau', c='dia', d='teman')"
   ]
  },
  {
   "cell_type": "markdown",
   "id": "interesting-malpractice",
   "metadata": {},
   "source": [
    "Catatan: Argumen default harus diletakkan terakhir"
   ]
  },
  {
   "cell_type": "markdown",
   "id": "falling-budget",
   "metadata": {},
   "source": [
    "# Contoh User Defined Function"
   ]
  },
  {
   "cell_type": "markdown",
   "id": "outer-august",
   "metadata": {},
   "source": [
    "**Contoh 1:**\n",
    "\n",
    "Penjumlahan 2 bilangan"
   ]
  },
  {
   "cell_type": "code",
   "execution_count": 2,
   "id": "happy-actress",
   "metadata": {},
   "outputs": [
    {
     "data": {
      "text/plain": [
       "3"
      ]
     },
     "execution_count": 2,
     "metadata": {},
     "output_type": "execute_result"
    }
   ],
   "source": [
    "def penjumlahan(x, y): # input\n",
    "    a=x+y # proses\n",
    "    return a # output\n",
    "\n",
    "penjumlahan(1, 2) # pemanggilan fungsi"
   ]
  },
  {
   "cell_type": "markdown",
   "id": "occasional-invitation",
   "metadata": {},
   "source": [
    "**Contoh 2:**\n",
    "\n",
    "Penjumlahan yang memungkinkan untuk tiga bilangan"
   ]
  },
  {
   "cell_type": "code",
   "execution_count": 3,
   "id": "uniform-bahrain",
   "metadata": {},
   "outputs": [
    {
     "name": "stdout",
     "output_type": "stream",
     "text": [
      "3\n",
      "6\n"
     ]
    }
   ],
   "source": [
    "def penjumlahan(x,y,z=None):\n",
    "    if (z==None):\n",
    "        return x+y\n",
    "    else:\n",
    "        return x+y+z\n",
    "\n",
    "print(penjumlahan(1, 2))\n",
    "print(penjumlahan(1, 2, 3))"
   ]
  },
  {
   "cell_type": "markdown",
   "id": "warming-netherlands",
   "metadata": {},
   "source": [
    "**Contoh 3:**\n",
    "\n",
    "Menghitung luas dan keliling persegi"
   ]
  },
  {
   "cell_type": "code",
   "execution_count": 4,
   "id": "greater-intranet",
   "metadata": {},
   "outputs": [
    {
     "name": "stdout",
     "output_type": "stream",
     "text": [
      "luas: 4\n",
      "keliling: 8\n"
     ]
    }
   ],
   "source": [
    "def luas_dan_keliling_presegi(s):\n",
    "    luas = s**2\n",
    "    keliling = 4*s\n",
    "    return luas, keliling\n",
    "\n",
    "luas, keliling = luas_dan_keliling_presegi(2)\n",
    "print('luas:', luas)\n",
    "print('keliling:', keliling)"
   ]
  },
  {
   "cell_type": "markdown",
   "id": "straight-mouth",
   "metadata": {},
   "source": [
    "# Latihan"
   ]
  },
  {
   "cell_type": "markdown",
   "id": "homeless-masters",
   "metadata": {},
   "source": [
    "1. Buatlah sebuah fungsi untuk menghitung luas dan keliling lingkaran dengan input jari2!"
   ]
  },
  {
   "cell_type": "code",
   "execution_count": 23,
   "id": "shaped-latest",
   "metadata": {},
   "outputs": [
    {
     "name": "stdout",
     "output_type": "stream",
     "text": [
      "luas: 31400.0\n",
      "keliling: 1256.0\n"
     ]
    }
   ],
   "source": [
    "def luas_dan_keliling_lingkaran(r):\n",
    "    luas = 3.14*r**2\n",
    "    keliling = 2*3.14*r\n",
    "    return luas\n",
    "    return keliling\n",
    "\n",
    "luas = luas_dan_keliling_lingkaran(100)\n",
    "keliling = luas_dan_keliling_lingkaran(20)\n",
    "print('luas:', luas)\n",
    "print('keliling:', keliling)"
   ]
  },
  {
   "cell_type": "markdown",
   "id": "minor-reasoning",
   "metadata": {},
   "source": [
    "2. Buatlah sebuah fungsi untuk menggabungkan dua kata dalam bentuk string bebas menjadi satu kata tanpa spasi dengan huruf kecil\n",
    "\n",
    "Contoh:\n",
    "    \n",
    "    gabung_kata('TANGKUBAN', 'PeRaHu')\n",
    "    \n",
    "Output:\n",
    "\n",
    "```python 'tangkubanperahu'"
   ]
  },
  {
   "cell_type": "code",
   "execution_count": 8,
   "id": "prospective-visiting",
   "metadata": {},
   "outputs": [
    {
     "name": "stdout",
     "output_type": "stream",
     "text": [
      "tangkubanperahu\n"
     ]
    }
   ],
   "source": [
    "def gabung_kata(a,b):\n",
    "    return a+b\n",
    "\n",
    "hasil = gabung_kata('TANGKUBAN', 'PeRaHu')\n",
    "print(hasil.lower())"
   ]
  },
  {
   "cell_type": "markdown",
   "id": "bottom-antarctica",
   "metadata": {},
   "source": [
    "3. Buatlah sebuah fungsi awal_akhir(list_input) untuk menukar elemen pertama pada sebuah list dengan elemen terakhir pada list yang sama!\n",
    "\n",
    "Contoh:\n",
    "\n",
    "    awal_akhir([1,2,3,4])\n",
    "\n",
    "Output:\n",
    "\n",
    "```python [4,2,3,1]"
   ]
  },
  {
   "cell_type": "code",
   "execution_count": 21,
   "id": "8f16ab69",
   "metadata": {},
   "outputs": [
    {
     "name": "stdout",
     "output_type": "stream",
     "text": [
      "[4, 2, 3, 1]\n"
     ]
    }
   ],
   "source": [
    "awal_akhir = [1,2,3,4]\n",
    "awal_akhir[0]=4\n",
    "awal_akhir[-1]=1\n",
    "print(awal_akhir)"
   ]
  }
 ],
 "metadata": {
  "kernelspec": {
   "display_name": "Python 3",
   "language": "python",
   "name": "python3"
  },
  "language_info": {
   "codemirror_mode": {
    "name": "ipython",
    "version": 3
   },
   "file_extension": ".py",
   "mimetype": "text/x-python",
   "name": "python",
   "nbconvert_exporter": "python",
   "pygments_lexer": "ipython3",
   "version": "3.9.7"
  }
 },
 "nbformat": 4,
 "nbformat_minor": 5
}
