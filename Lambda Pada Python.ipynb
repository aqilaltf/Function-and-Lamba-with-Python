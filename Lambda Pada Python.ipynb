{
 "cells": [
  {
   "cell_type": "markdown",
   "id": "stock-table",
   "metadata": {},
   "source": [
    "# Pembukaan"
   ]
  },
  {
   "cell_type": "markdown",
   "id": "adopted-procedure",
   "metadata": {},
   "source": [
    "Assalamu'alaikum warahmatullahi wabarakatuh. Puji syukur kehadirat Allah Subhana Wata'ala atas limpahan Rahmat dan HidayahNya kepada kita semua. Sholawat serta salam senantiasa tercurah limpahkan kepada baginda Muhammad Rasulullah Salallahualaihiwassalam.\n",
    "\n",
    "Halo para **Pejuang Data**. Selamat berjumpa di pertemuan pertama Program Training **Algoritma Machine Learning** Kelas Mahir.\n",
    "\n",
    "Pada pertemuan ini kamu akan belajar:\n",
    "* Lambda Pada Python\n",
    "* Menggunakan Lambda Expression\n",
    "* Anonymous Function\n",
    "* Eksekusi Lambda Secara Langsung\n",
    "* Mengapa Harus Pakai Lambda?\n",
    "* Contoh Pemakaian Fungsi Lambda\n",
    "* Latihan"
   ]
  },
  {
   "cell_type": "markdown",
   "id": "graphic-planner",
   "metadata": {},
   "source": [
    "# Lambda"
   ]
  },
  {
   "cell_type": "markdown",
   "id": "optional-bearing",
   "metadata": {},
   "source": [
    "Fungsi lambda adalah fungsi anonim one line yang didefinisikan tanpa nama. Fungsi lambda dapat mengambil sejumlah arguments , tetapi hanya dapat memiliki satu expression . Sementara fungsi normal didefinisikan menggunakan kata kunci def , dalam Python fungsi anonim didefinisikan menggunakan kata kunci lambda.\n",
    "\n",
    "Fungsi Lambda digunakan ketika fungsi sederhana hanya digunakan sekali atau untuk waktu yang singkat dalam kode kita. Penggunaannya yang paling umum adalah sebagai argumen untuk fungsi tingkat tinggi (fungsi yang menggunakan fungsi lain sebagai argumen).\n",
    "\n",
    "Misalkan kita punya fungsi penjumlahan kuadrat seperti ini:"
   ]
  },
  {
   "cell_type": "code",
   "execution_count": 1,
   "id": "bronze-wagon",
   "metadata": {},
   "outputs": [],
   "source": [
    "def penjumlahan_kuadrat(x,y):\n",
    "    return x**2 + y**2"
   ]
  },
  {
   "cell_type": "markdown",
   "id": "neutral-brisbane",
   "metadata": {},
   "source": [
    "dengan lambda.. kita tidak perlu menggunakan def dan return , bahkan kita juga tidak perlu menuliskan namanya."
   ]
  },
  {
   "cell_type": "code",
   "execution_count": 2,
   "id": "complete-aruba",
   "metadata": {},
   "outputs": [
    {
     "data": {
      "text/plain": [
       "<function __main__.<lambda>(x, y)>"
      ]
     },
     "execution_count": 2,
     "metadata": {},
     "output_type": "execute_result"
    }
   ],
   "source": [
    "lambda x,y : x**2 + y**2"
   ]
  },
  {
   "cell_type": "markdown",
   "id": "martial-documentary",
   "metadata": {},
   "source": [
    "# Menggunakan Lambda Expression"
   ]
  },
  {
   "cell_type": "markdown",
   "id": "smoking-tsunami",
   "metadata": {},
   "source": [
    "Lambda digunakan untuk membuat fungsi dalam satu baris ekspresi. Ini adalah format untuk membuat fungsi lambda:"
   ]
  },
  {
   "attachments": {
    "lambda1.jpg": {
     "image/jpeg": "[encoded data removed]"
    }
   },
   "cell_type": "markdown",
   "id": "rotary-bacon",
   "metadata": {},
   "source": [
    "![lambda1.jpg](attachment:lambda1.jpg)"
   ]
  },
  {
   "cell_type": "markdown",
   "id": "rocky-finish",
   "metadata": {},
   "source": [
    "Lambda bisa memiliki lebih dari satu argumen atau parameter, tapi hanya bisa memiliki satu ekspresi atau isi."
   ]
  },
  {
   "cell_type": "code",
   "execution_count": 3,
   "id": "monetary-exploration",
   "metadata": {},
   "outputs": [],
   "source": [
    "greeting = lambda name: print(f\"Hello, {name}\")"
   ]
  },
  {
   "cell_type": "markdown",
   "id": "protecting-veteran",
   "metadata": {},
   "source": [
    "Karena fungsi lambda tidak punya nama, jadi kita butuh variabel untuk menyimpannya.\n",
    "\n",
    "Nanti saat kita mau panggil, kita tinggal tuliskan saja nama variabelnya seperti ini:"
   ]
  },
  {
   "cell_type": "code",
   "execution_count": 4,
   "id": "nonprofit-headset",
   "metadata": {},
   "outputs": [
    {
     "name": "stdout",
     "output_type": "stream",
     "text": [
      "Hello, Dian\n",
      "Hello, Ayu\n"
     ]
    }
   ],
   "source": [
    "greeting(\"Dian\")\n",
    "greeting(\"Ayu\")"
   ]
  },
  {
   "cell_type": "markdown",
   "id": "indoor-decline",
   "metadata": {},
   "source": [
    "Beberapa contoh penggunaan fungsi lambda"
   ]
  },
  {
   "cell_type": "code",
   "execution_count": 5,
   "id": "signal-difference",
   "metadata": {},
   "outputs": [
    {
     "name": "stdout",
     "output_type": "stream",
     "text": [
      "15 110\n"
     ]
    }
   ],
   "source": [
    "# Fungsi lambda untuk menambahkan angka 10 kepada argument input\n",
    "f = lambda x: x+10\n",
    "val1 = f(5)\n",
    "val2 = f(100)\n",
    "print(val1, val2)"
   ]
  },
  {
   "cell_type": "code",
   "execution_count": 6,
   "id": "swiss-nowhere",
   "metadata": {},
   "outputs": [
    {
     "name": "stdout",
     "output_type": "stream",
     "text": [
      "20 35\n"
     ]
    }
   ],
   "source": [
    "# fungsi lambda untuk mengalikan dua argumen input dan menampilkan hasilnya\n",
    "f = lambda x,y: x*y\n",
    "val3 = f(2,10)\n",
    "val4 = f(7,5)\n",
    "print(val3, val4)"
   ]
  },
  {
   "cell_type": "markdown",
   "id": "geographic-granny",
   "metadata": {},
   "source": [
    "# Anonymous Function"
   ]
  },
  {
   "cell_type": "markdown",
   "id": "confused-memory",
   "metadata": {},
   "source": [
    "Karena lambda adalah anonymous function, ia akan bebas menggunakan nama apa saja. Dengan kata lain, fungsi lambda bisa disimpan di variabel mana pun. Ini tentunya tidak bisa dilakukan oleh fungsi yang dibuat dengan def. Coba perhatikan ini:"
   ]
  },
  {
   "cell_type": "code",
   "execution_count": 7,
   "id": "practical-mining",
   "metadata": {},
   "outputs": [
    {
     "ename": "NameError",
     "evalue": "name 'nama' is not defined",
     "output_type": "error",
     "traceback": [
      "\u001b[1;31m---------------------------------------------------------------------------\u001b[0m",
      "\u001b[1;31mNameError\u001b[0m                                 Traceback (most recent call last)",
      "\u001b[1;32m<ipython-input-7-9209f12a2a6d>\u001b[0m in \u001b[0;36m<module>\u001b[1;34m\u001b[0m\n\u001b[0;32m      2\u001b[0m     \u001b[0mprint\u001b[0m\u001b[1;33m(\u001b[0m\u001b[1;34mf\"Hello {nama}, apa kabar?\"\u001b[0m\u001b[1;33m)\u001b[0m\u001b[1;33m\u001b[0m\u001b[1;33m\u001b[0m\u001b[0m\n\u001b[0;32m      3\u001b[0m \u001b[1;33m\u001b[0m\u001b[0m\n\u001b[1;32m----> 4\u001b[1;33m \u001b[0mucapin\u001b[0m \u001b[1;33m=\u001b[0m \u001b[0msay_hello\u001b[0m\u001b[1;33m(\u001b[0m\u001b[0mnama\u001b[0m\u001b[1;33m)\u001b[0m\u001b[1;33m\u001b[0m\u001b[1;33m\u001b[0m\u001b[0m\n\u001b[0m",
      "\u001b[1;31mNameError\u001b[0m: name 'nama' is not defined"
     ]
    }
   ],
   "source": [
    "def say_hello(nama):\n",
    "    print(f\"Hello {nama}, apa kabar?\")\n",
    "\n",
    "ucapin = say_hello(nama)"
   ]
  },
  {
   "cell_type": "markdown",
   "id": "convertible-fantasy",
   "metadata": {},
   "source": [
    "Kita mencoba membuat fungsi say_hello() dengan def, kemudian menyimpannya ke dalam variabel ucapin.\n",
    "\n",
    "Tapi malah error!\n",
    "\n",
    "Ini karena fungsi tersebut bukanlah fungsi anonymous yang boleh dibah-ubah namanya.\n",
    "\n",
    "Lalu coba perhatikan di baris terakhir, fungsi lambda greeting() yang sudah dibuat disimpan lagi ke variabel yang berbeda, yakni sapa.\n"
   ]
  },
  {
   "cell_type": "code",
   "execution_count": null,
   "id": "amber-messaging",
   "metadata": {},
   "outputs": [],
   "source": [
    "greeting = lambda name: print(f\"Hello, {name}\")\n",
    "sapa = greeting\n",
    "greeting(\"Andi\")"
   ]
  },
  {
   "cell_type": "code",
   "execution_count": null,
   "id": "rental-spray",
   "metadata": {},
   "outputs": [],
   "source": [
    "sapa(\"Neli\")"
   ]
  },
  {
   "cell_type": "markdown",
   "id": "colonial-process",
   "metadata": {},
   "source": [
    "Hasilnya tidak error, karena ini adalah fungsi anonymous atau lambda."
   ]
  },
  {
   "cell_type": "markdown",
   "id": "better-singapore",
   "metadata": {},
   "source": [
    "# Eksekusi Lambda Secara Langsung"
   ]
  },
  {
   "cell_type": "markdown",
   "id": "portuguese-beast",
   "metadata": {},
   "source": [
    "Eksekusi Lambda Secara Langsung Kelebihan fungsi lambda dibandingkan def adalah bisa kita eksekusi langsung.\n",
    "\n",
    "Contohnya:"
   ]
  },
  {
   "cell_type": "code",
   "execution_count": null,
   "id": "missing-browser",
   "metadata": {},
   "outputs": [],
   "source": [
    "(lambda x,y: x**2 + y**2)(4,6)"
   ]
  },
  {
   "cell_type": "markdown",
   "id": "accomplished-stability",
   "metadata": {},
   "source": [
    "Tanda kurung yang mengapit fungsi lambda artinya kita akan langsung mengeksekusi fungsi tersebut.\n",
    "\n",
    "Lalu kurung berikutnya akan berisi argument.\n",
    "\n",
    "Angka 4 dan 6 adalah argument untuk x dan y yang akan diberikan kepada fungsi lambda.\n",
    "\n",
    "Maka kita akan langsung mendapatkan hasilnya, yakni: 42 + 62 = 52.\n",
    "\n",
    "Hasil dari eksekusi ini bisa juga kita simpan ke dalam variabel."
   ]
  },
  {
   "cell_type": "code",
   "execution_count": null,
   "id": "impressive-portable",
   "metadata": {},
   "outputs": [],
   "source": [
    "hasil = (lambda x,y: x**2 + y**2)(4,6)"
   ]
  },
  {
   "cell_type": "markdown",
   "id": "radical-planner",
   "metadata": {},
   "source": [
    "# Mengapa Harus Pakai Lambda?"
   ]
  },
  {
   "cell_type": "markdown",
   "id": "continued-disorder",
   "metadata": {},
   "source": [
    "Kita memang tidak harus selalu menggunakan Lambda, tapi dalam kasus tertentu lambda lebih baik dibandingkan fungsi biasa.\n",
    "\n",
    "Lambda biasanya dibutuhkan saat kita ingin membuat fungsi dalam satu baris.\n",
    "\n",
    "Biasanya saat menggunakan fungsi-fungsi seperti filter() , map() , dan reduce() kita akan membutuhkan lambda.\n",
    "\n",
    "Mengapa?\n",
    "\n",
    "Karena di fungsi-fungsi tersebut membutuhkan parameter fungsi.\n",
    "\n",
    "Contoh:"
   ]
  },
  {
   "cell_type": "code",
   "execution_count": null,
   "id": "weekly-maker",
   "metadata": {},
   "outputs": [],
   "source": [
    "bilangan = [10,2,8,7,5,4,3,11,0, 1]\n",
    "filtered_result = map (lambda x: x*x, bilangan)\n",
    "print(list(filtered_result))"
   ]
  },
  {
   "cell_type": "markdown",
   "id": "reflected-craps",
   "metadata": {},
   "source": [
    "Pada fungsi map() kita memberikan parameter dengan fungsi lambda.\n",
    "\n",
    "Mengapa bisa begitu?\n",
    "\n",
    "Karena lambda bisa disimpan ke dalam variabel, otomatis dia akan bisa juga jadi parameter.\n",
    "\n",
    "Satu lagi contoh dengan fungsi filter():"
   ]
  },
  {
   "cell_type": "code",
   "execution_count": null,
   "id": "liked-fraction",
   "metadata": {},
   "outputs": [],
   "source": [
    "# menentukan bilangan genap\n",
    "genap = lambda x: x%2 == 0\n",
    "list(filter(genap, range(11)))"
   ]
  },
  {
   "cell_type": "markdown",
   "id": "processed-electron",
   "metadata": {},
   "source": [
    "# Contoh Pemakaian Fungsi Lambda"
   ]
  },
  {
   "cell_type": "markdown",
   "id": "organic-adams",
   "metadata": {},
   "source": [
    "1. Melakukan filter tertentu pada suatu list"
   ]
  },
  {
   "cell_type": "code",
   "execution_count": 13,
   "id": "meaning-cisco",
   "metadata": {},
   "outputs": [
    {
     "data": {
      "text/plain": [
       "['Jawa Barat', 'Jawa Timur', 'Jawa Tengah']"
      ]
     },
     "execution_count": 13,
     "metadata": {},
     "output_type": "execute_result"
    }
   ],
   "source": [
    "list_nama_provinsi = ['Jawa Barat', 'Jawa Timur', 'Jawa Tengah', 'DKI Jakarta', 'Banten']\n",
    "\n",
    "# Menggambil nama provinsi dengan kata 'Jawa'\n",
    "pilih_jawa = lambda k: 'jawa' in k.lower()\n",
    "# Note:lower() untuk merubah huruf menjadi lower case\n",
    "\n",
    "list(filter(pilih_jawa, list_nama_provinsi))"
   ]
  },
  {
   "cell_type": "markdown",
   "id": "first-personal",
   "metadata": {},
   "source": [
    "2. Mendefinisikan kolom baru dengan fungsi tertentu pada DataFrame"
   ]
  },
  {
   "cell_type": "code",
   "execution_count": 1,
   "id": "significant-estonia",
   "metadata": {},
   "outputs": [
    {
     "data": {
      "text/html": [
       "<div>\n",
       "<style scoped>\n",
       "    .dataframe tbody tr th:only-of-type {\n",
       "        vertical-align: middle;\n",
       "    }\n",
       "\n",
       "    .dataframe tbody tr th {\n",
       "        vertical-align: top;\n",
       "    }\n",
       "\n",
       "    .dataframe thead th {\n",
       "        text-align: right;\n",
       "    }\n",
       "</style>\n",
       "<table border=\"1\" class=\"dataframe\">\n",
       "  <thead>\n",
       "    <tr style=\"text-align: right;\">\n",
       "      <th></th>\n",
       "      <th>Eksportir</th>\n",
       "      <th>Total_Ekspor_TON</th>\n",
       "      <th>Persentase</th>\n",
       "    </tr>\n",
       "  </thead>\n",
       "  <tbody>\n",
       "    <tr>\n",
       "      <th>0</th>\n",
       "      <td>Rohan</td>\n",
       "      <td>455</td>\n",
       "      <td>91.0</td>\n",
       "    </tr>\n",
       "    <tr>\n",
       "      <th>1</th>\n",
       "      <td>Elvan</td>\n",
       "      <td>250</td>\n",
       "      <td>50.0</td>\n",
       "    </tr>\n",
       "    <tr>\n",
       "      <th>2</th>\n",
       "      <td>Irpan</td>\n",
       "      <td>495</td>\n",
       "      <td>99.0</td>\n",
       "    </tr>\n",
       "    <tr>\n",
       "      <th>3</th>\n",
       "      <td>Soni</td>\n",
       "      <td>400</td>\n",
       "      <td>80.0</td>\n",
       "    </tr>\n",
       "    <tr>\n",
       "      <th>4</th>\n",
       "      <td>Radhika</td>\n",
       "      <td>350</td>\n",
       "      <td>70.0</td>\n",
       "    </tr>\n",
       "    <tr>\n",
       "      <th>5</th>\n",
       "      <td>Joni</td>\n",
       "      <td>450</td>\n",
       "      <td>90.0</td>\n",
       "    </tr>\n",
       "  </tbody>\n",
       "</table>\n",
       "</div>"
      ],
      "text/plain": [
       "  Eksportir  Total_Ekspor_TON  Persentase\n",
       "0     Rohan               455        91.0\n",
       "1     Elvan               250        50.0\n",
       "2     Irpan               495        99.0\n",
       "3      Soni               400        80.0\n",
       "4   Radhika               350        70.0\n",
       "5      Joni               450        90.0"
      ]
     },
     "execution_count": 1,
     "metadata": {},
     "output_type": "execute_result"
    }
   ],
   "source": [
    "# Impor Library Pandas\n",
    "import pandas as pd\n",
    "\n",
    "# Membuat list yang memuat data\n",
    "hasil_ekspor= [['Rohan',455],['Elvan',250],['Irpan',495],\n",
    "               ['Soni',400],['Radhika',350],['Joni',450]]\n",
    "\n",
    "# Membuat Pandas DataFrame\n",
    "df = pd.DataFrame(hasil_ekspor,columns=['Eksportir','Total_Ekspor_TON'])\n",
    "\n",
    "# Target Ekspor adalah 500 Ton\n",
    "# Persentase hasil ekspor diperoleh dari Total_Ekspor_TON dibagi target X 100%\n",
    "# diterapkan pada dataframe dengan bantuan method df.assign()\n",
    "\n",
    "df = df.assign(Persentase = lambda x: (x['Total_Ekspor_TON'] /500 * 100))\n",
    "\n",
    "# Menampilkan DataFRame\n",
    "df"
   ]
  },
  {
   "cell_type": "markdown",
   "id": "separated-badge",
   "metadata": {},
   "source": [
    "# Latihan"
   ]
  },
  {
   "cell_type": "markdown",
   "id": "substantial-citizenship",
   "metadata": {},
   "source": [
    "1. Buatlah fungsi lambda untuk melakukan filter pada data range(n) untuk data-data yang berupa bilangan kelipatan 3"
   ]
  },
  {
   "cell_type": "code",
   "execution_count": 6,
   "id": "mounted-colorado",
   "metadata": {},
   "outputs": [
    {
     "data": {
      "text/plain": [
       "[0, 3, 6, 9]"
      ]
     },
     "execution_count": 6,
     "metadata": {},
     "output_type": "execute_result"
    }
   ],
   "source": [
    "kelipatan_3 = lambda x: x%3 == 0\n",
    "list(filter(kelipatan_3, range(12)))"
   ]
  },
  {
   "cell_type": "markdown",
   "id": "restricted-twins",
   "metadata": {},
   "source": [
    "2. Buatlah fungsi lambda untuk memilih kata-kata dengan jumlah karakter lebih dari sama dengan 6 pada list inputnya. Misal:\n",
    "\n",
    "    list_input=['saya', 'adalah', 'seorang', 'kapiten']\n",
    "\n",
    "Output:\n",
    "\n",
    "['adalah', 'seorang', 'kapiten']"
   ]
  },
  {
   "cell_type": "code",
   "execution_count": 22,
   "id": "amazing-washington",
   "metadata": {},
   "outputs": [
    {
     "data": {
      "text/plain": [
       "['adalah', 'seorang', 'kapiten']"
      ]
     },
     "execution_count": 22,
     "metadata": {},
     "output_type": "execute_result"
    }
   ],
   "source": [
    "list_input=['saya', 'adalah', 'seorang', 'kapiten']\n",
    "pilih_list = lambda k: len(k)>=6\n",
    "list(filter(pilih_list, list_input))"
   ]
  }
 ],
 "metadata": {
  "kernelspec": {
   "display_name": "Python 3",
   "language": "python",
   "name": "python3"
  },
  "language_info": {
   "codemirror_mode": {
    "name": "ipython",
    "version": 3
   },
   "file_extension": ".py",
   "mimetype": "text/x-python",
   "name": "python",
   "nbconvert_exporter": "python",
   "pygments_lexer": "ipython3",
   "version": "3.9.7"
  }
 },
 "nbformat": 4,
 "nbformat_minor": 5
}
