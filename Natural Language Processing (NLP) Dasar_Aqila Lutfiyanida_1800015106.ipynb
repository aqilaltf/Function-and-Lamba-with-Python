{
 "cells": [
  {
   "cell_type": "markdown",
   "id": "87d718a7",
   "metadata": {
    "id": "87d718a7"
   },
   "source": [
    "## Pembuka"
   ]
  },
  {
   "cell_type": "markdown",
   "id": "aa48ded8",
   "metadata": {
    "id": "aa48ded8"
   },
   "source": [
    "Assalamu'alaikum warahmatullahi wabarakatuh.\n",
    "Puji syukur kehadirat Allah Subhana Wata'ala atas limpahan Rahmat dan HidayahNya kepada kita semua.\n",
    "Sholawat serta salam senantiasa tercurah limpahkan kepada baginda Muhammad Rasulullah Salallahualaihiwassalam.\n",
    "\n",
    "Halo para **Pejuang Data**. Selamat berjumpa di pertemuan ketujuh Program Training **Algoritma Machine Learning** Kelas Mahir.\n",
    "\n",
    "Pada pertemuan ini kamu akan belajar:\n",
    "* Apa itu NLP\n",
    "* Scrapping Data\n",
    "* Text Preprocessing\n",
    "    * Case Folding & Data Cleaning\n",
    "    * Lemmatisasi\n",
    "    * Stemming\n",
    "    * Slang Word\n",
    "    * Stop Word\n",
    "    * Unwanted Word\n",
    "\n"
   ]
  },
  {
   "cell_type": "markdown",
   "id": "408f51f9",
   "metadata": {
    "id": "408f51f9"
   },
   "source": [
    "## Import Library"
   ]
  },
  {
   "cell_type": "code",
   "execution_count": 1,
   "id": "e965b0a2",
   "metadata": {
    "id": "e965b0a2"
   },
   "outputs": [],
   "source": [
    "import sys\n",
    "\n",
    "if not sys.warnoptions:\n",
    "    import warnings\n",
    "    warnings.simplefilter(\"ignore\")"
   ]
  },
  {
   "cell_type": "markdown",
   "id": "fd79219b",
   "metadata": {
    "id": "fd79219b"
   },
   "source": [
    "## Natural Language Processing"
   ]
  },
  {
   "cell_type": "markdown",
   "id": "de571732",
   "metadata": {
    "id": "de571732"
   },
   "source": [
    "Natural Language Processing (NLP) merupakan salah satu cabang ilmu AI yang berfokus pada pengolahan bahasa natural. Bahasa natural adalah bahasa yang secara umum digunakan oleh manusia dalam berkomunikasi satu sama lain.  Bahasa yang diterima oleh komputer butuh untuk diproses dan dipahami terlebih dahulu supaya maksud dari user bisa dipahami dengan baik oleh komputer.\n",
    "\n",
    "Ada berbagai terapan aplikasi dari NLP. Diantaranya adalah Chatbot (aplikasi yang membuat user bisa seolah-olah melakukan komunikasi dengan computer), Stemming atau Lemmatization (pemotongan kata dalam bahasa tertentu menjadi bentuk dasar pengenalan fungsi setiap kata dalam kalimat), Summarization (ringkasan dari bacaan), Translation Tools (menterjemahkan bahasa) dan aplikasi-aplikasi lain yang memungkinkan komputer mampu memahami instruksi bahasa yang diinputkan oleh user.\n",
    "\n",
    "Pustejovsky dan Stubbs (2012) menjelaskan bahwa ada beberapa area utama penelitian pada field NLP, diantaranya:\n",
    "\n",
    "1. **Question Answering Systems (QAS)**. Kemampuan komputer untuk menjawab pertanyaan yang diberikan oleh user. Daripada memasukkan keyword ke dalam browser pencarian, dengan QAS, user bisa langsung bertanya dalam bahasa natural yang digunakannya, baik itu Inggris, Mandarin, ataupun Indonesia.\n",
    "\n",
    "2. **Summarization**. Pembuatan ringkasan dari sekumpulan konten dokumen atau email. Dengan menggunakan aplikasi ini, user bisa dibantu untuk mengkonversikan dokumen teks yang besar ke dalam bentuk slide presentasi.\n",
    "Machine Translation. Produk yang dihasilkan adalah aplikasi yang dapat memahami bahasa manusia dan menterjemahkannya ke dalam bahasa lain. Termasuk di dalamnya adalah Google Translate yang apabila dicermati semakin membaik dalam penterjemahan bahasa. Contoh lain lagi adalah BabelFish yang menterjemahkan bahasa pada real time.\n",
    "\n",
    "3. **Speech Recognition**. Field ini merupakan cabang ilmu NLP yang cukup sulit. Proses pembangunan model untuk digunakan telpon/komputer dalam mengenali bahasa yang diucapkan sudah banyak dikerjakan. Bahasa yang sering digunakan adalah berupa pertanyaan dan perintah.\n",
    "\n",
    "4. **Document classification**. Sedangkan aplikasi ini adalah merupakan area penelitian NLP Yang paling sukses. Pekerjaan yang dilakukan aplikasi ini adalah menentukan dimana tempat terbaik dokumen yang baru diinputkan ke dalam sistem. Hal ini sangat berguna pada aplikasi spam filtering, news article classification, dan movie review."
   ]
  },
  {
   "cell_type": "markdown",
   "id": "dc397c57",
   "metadata": {
    "id": "dc397c57"
   },
   "source": [
    "## Scrapping Data Text"
   ]
  },
  {
   "cell_type": "markdown",
   "id": "6040adbf",
   "metadata": {
    "id": "6040adbf"
   },
   "source": [
    "Sebelum melakukan penerapan dan berbagai penelitian. Mengumpulkan data teks sebagai bahan dasar dari bidang ini merupakan hal yang sangat penting. Proses ini biasa disebut dengan scrapping data. Aktivitas scrapping data bisa dilakukan melalui berbagai platfrom. Mulai langsung pada halaman web tertentu, melalui API seperti Twitter, atau melalui tools yang sudah disediakan, bisa free atau berbayar.  Untuk mulai belajar NLP, kita akan menggunakan tools. Toolls/Library `google_play_scrapper` adalah library yang dapat digunakan untuk mengambil review dari google apps. Pertama kita perlu melakukan instalasi sebagai berikut."
   ]
  },
  {
   "cell_type": "markdown",
   "id": "751e584e",
   "metadata": {
    "id": "751e584e"
   },
   "source": [
    "**Instalasi google play scrapper**"
   ]
  },
  {
   "cell_type": "markdown",
   "id": "6adbf606",
   "metadata": {
    "id": "6adbf606"
   },
   "source": [
    "``` python\n",
    "!pip install google_play_scraper\n",
    "```"
   ]
  },
  {
   "cell_type": "markdown",
   "id": "00348792",
   "metadata": {
    "id": "00348792"
   },
   "source": [
    "**Import Library**"
   ]
  },
  {
   "cell_type": "code",
   "execution_count": 2,
   "id": "effb826a",
   "metadata": {
    "id": "effb826a"
   },
   "outputs": [],
   "source": [
    "import numpy as np\n",
    "import pandas as pd\n",
    "from google_play_scraper import Sort, reviews                  # Librray untuk scrapping data teks\n",
    "import re                                                      # Library untuk teks preprocessing"
   ]
  },
  {
   "cell_type": "markdown",
   "id": "dcb08789",
   "metadata": {
    "id": "dcb08789"
   },
   "source": [
    "**Scrapping Data Review Teks**"
   ]
  },
  {
   "cell_type": "code",
   "execution_count": 4,
   "id": "3261970f",
   "metadata": {
    "colab": {
     "base_uri": "https://localhost:8080/",
     "height": 204
    },
    "id": "3261970f",
    "outputId": "b578b711-f0c6-4a22-babd-2c4cc35575d4"
   },
   "outputs": [
    {
     "data": {
      "text/html": [
       "<div>\n",
       "<style scoped>\n",
       "    .dataframe tbody tr th:only-of-type {\n",
       "        vertical-align: middle;\n",
       "    }\n",
       "\n",
       "    .dataframe tbody tr th {\n",
       "        vertical-align: top;\n",
       "    }\n",
       "\n",
       "    .dataframe thead th {\n",
       "        text-align: right;\n",
       "    }\n",
       "</style>\n",
       "<table border=\"1\" class=\"dataframe\">\n",
       "  <thead>\n",
       "    <tr style=\"text-align: right;\">\n",
       "      <th></th>\n",
       "      <th>Id</th>\n",
       "      <th>Sentiment</th>\n",
       "      <th>Pasangan Calon</th>\n",
       "      <th>Text Tweet</th>\n",
       "    </tr>\n",
       "  </thead>\n",
       "  <tbody>\n",
       "    <tr>\n",
       "      <th>0</th>\n",
       "      <td>1</td>\n",
       "      <td>negative</td>\n",
       "      <td>Agus-Sylvi</td>\n",
       "      <td>Banyak akun kloning seolah2 pendukung #agussil...</td>\n",
       "    </tr>\n",
       "    <tr>\n",
       "      <th>1</th>\n",
       "      <td>2</td>\n",
       "      <td>negative</td>\n",
       "      <td>Agus-Sylvi</td>\n",
       "      <td>#agussilvy bicara apa kasihan yaa...lap itu ai...</td>\n",
       "    </tr>\n",
       "    <tr>\n",
       "      <th>2</th>\n",
       "      <td>3</td>\n",
       "      <td>negative</td>\n",
       "      <td>Agus-Sylvi</td>\n",
       "      <td>Kalau aku sih gak nunggu hasil akhir QC tp lag...</td>\n",
       "    </tr>\n",
       "    <tr>\n",
       "      <th>3</th>\n",
       "      <td>4</td>\n",
       "      <td>negative</td>\n",
       "      <td>Agus-Sylvi</td>\n",
       "      <td>Kasian oh kasian dengan peluru 1milyar untuk t...</td>\n",
       "    </tr>\n",
       "    <tr>\n",
       "      <th>4</th>\n",
       "      <td>5</td>\n",
       "      <td>negative</td>\n",
       "      <td>Agus-Sylvi</td>\n",
       "      <td>Maaf ya pendukung #AgusSilvy..hayo dukung #Ani...</td>\n",
       "    </tr>\n",
       "  </tbody>\n",
       "</table>\n",
       "</div>"
      ],
      "text/plain": [
       "   Id Sentiment Pasangan Calon  \\\n",
       "0   1  negative     Agus-Sylvi   \n",
       "1   2  negative     Agus-Sylvi   \n",
       "2   3  negative     Agus-Sylvi   \n",
       "3   4  negative     Agus-Sylvi   \n",
       "4   5  negative     Agus-Sylvi   \n",
       "\n",
       "                                          Text Tweet  \n",
       "0  Banyak akun kloning seolah2 pendukung #agussil...  \n",
       "1  #agussilvy bicara apa kasihan yaa...lap itu ai...  \n",
       "2  Kalau aku sih gak nunggu hasil akhir QC tp lag...  \n",
       "3  Kasian oh kasian dengan peluru 1milyar untuk t...  \n",
       "4  Maaf ya pendukung #AgusSilvy..hayo dukung #Ani...  "
      ]
     },
     "execution_count": 4,
     "metadata": {},
     "output_type": "execute_result"
    }
   ],
   "source": [
    "Hasil_Scrapping = pd.read_csv(r'C:\\Users\\User\\Downloads\\dataset_tweet_sentiment_pilkada_DKI_2017.csv')\n",
    "Hasil_Scrapping.head()"
   ]
  },
  {
   "cell_type": "markdown",
   "id": "24de2ba2",
   "metadata": {
    "id": "24de2ba2"
   },
   "source": [
    "**Mengambil Series Data Teks Review**"
   ]
  },
  {
   "cell_type": "code",
   "execution_count": 5,
   "id": "07c8e034",
   "metadata": {
    "colab": {
     "base_uri": "https://localhost:8080/"
    },
    "id": "07c8e034",
    "outputId": "0b5b992a-c62c-4f53-8c1a-4a26be84c6e0"
   },
   "outputs": [
    {
     "data": {
      "text/plain": [
       "0      Banyak akun kloning seolah2 pendukung #agussil...\n",
       "1      #agussilvy bicara apa kasihan yaa...lap itu ai...\n",
       "2      Kalau aku sih gak nunggu hasil akhir QC tp lag...\n",
       "3      Kasian oh kasian dengan peluru 1milyar untuk t...\n",
       "4      Maaf ya pendukung #AgusSilvy..hayo dukung #Ani...\n",
       "                             ...                        \n",
       "895    Kali saja bpk @aniesbaswedan @sandiuno lihat, ...\n",
       "896    Kita harus dapat merangkul semua orang tanpa b...\n",
       "897    Ini jagoanku dibidang digital <Smiling Face Wi...\n",
       "898                 #PesanBijak #OkeOce #GubernurGu3 ...\n",
       "899    Sandiaga: Bangun Rumah DP 0% Lebih Simpel Diba...\n",
       "Name: Text Tweet, Length: 900, dtype: object"
      ]
     },
     "execution_count": 5,
     "metadata": {},
     "output_type": "execute_result"
    }
   ],
   "source": [
    "teks=Hasil_Scrapping['Text Tweet']\n",
    "teks"
   ]
  },
  {
   "cell_type": "markdown",
   "id": "e6f824ee",
   "metadata": {
    "id": "e6f824ee"
   },
   "source": [
    "## Teks Preprocessing"
   ]
  },
  {
   "cell_type": "markdown",
   "id": "4a2273e1",
   "metadata": {
    "id": "4a2273e1"
   },
   "source": [
    "Setelah mendapat data teks. Salah satu tantangan dari data teks adalah bentuknya yang sangat beragam. Sebuah kata dapat ditulis dengan berbagai bentuk. Kemudian juga besar sekali kemungkinan adalah kesalahan penulisan. Tanda baca, angka, dan lain-lain. Oleh sebab itu, sebelum diolah lebih lanjut untuk diproses menjadi data numerik, maka diperlukan pemrosesan data teks agar menjadi bentuk yang lebih bersih dan standar. Yang akan sangat mempengaruhi hasil analisis data teks tersebut. Pada sentimen analisis misalnya, langkah ini menjadi sangat penting. Ada beberapa hal yang dilakukan pada tahap Teks Preprocessing:"
   ]
  },
  {
   "cell_type": "markdown",
   "id": "53dfaf88",
   "metadata": {
    "id": "53dfaf88"
   },
   "source": [
    "#### 1. Case Folding & Data Cleaning"
   ]
  },
  {
   "cell_type": "markdown",
   "id": "423d5249",
   "metadata": {
    "id": "423d5249"
   },
   "source": [
    "Case folding adalah salah satu bentuk text preprocessing yang paling sederhana dan efektif meskipun sering diabaikan. Tujuan dari case folding untuk mengubah semua huruf dalam dokumen menjadi huruf kecil. Hanya huruf ‘a’ sampai ‘z’ yang diterima. Karakter selain huruf dihilangkan dan dianggap delimiter. \n",
    "\n",
    "Ada beberapa cara yang dapat digunakan dalam tahap case folding, diantaranya:\n",
    "* Menghapus tanda baca\n",
    "* Menghapus angka\n",
    "* Mengubah text menjadi lowercase\n",
    "* Menghapus whitepace (karakter kosong)\n"
   ]
  },
  {
   "cell_type": "code",
   "execution_count": 6,
   "id": "fffae3e7",
   "metadata": {
    "colab": {
     "base_uri": "https://localhost:8080/",
     "height": 157
    },
    "id": "fffae3e7",
    "outputId": "55e926e5-1ee6-4348-cd09-ca52ec2a360d"
   },
   "outputs": [
    {
     "name": "stdout",
     "output_type": "stream",
     "text": [
      "Batal nyoblos, baru tau ternyata ga ada no.1 di kertas suara. #AHY #kangen #mosing\t\n"
     ]
    },
    {
     "data": {
      "text/plain": [
       "'Batal nyoblos  baru tau ternyata ga ada no 1 di kertas suara   AHY  kangen  mosing '"
      ]
     },
     "execution_count": 6,
     "metadata": {},
     "output_type": "execute_result"
    }
   ],
   "source": [
    "# Menghapus tanda baca\n",
    "print(teks[11])\n",
    "teks[11]=re.sub(r'[^\\w]|_',' ', teks[11])\n",
    "teks[11]"
   ]
  },
  {
   "cell_type": "code",
   "execution_count": 7,
   "id": "42cc872a",
   "metadata": {
    "colab": {
     "base_uri": "https://localhost:8080/",
     "height": 242
    },
    "id": "42cc872a",
    "outputId": "67deaceb-74b9-4fea-c30d-5bcb67827787"
   },
   "outputs": [
    {
     "name": "stdout",
     "output_type": "stream",
     "text": [
      "Batal nyoblos  baru tau ternyata ga ada no 1 di kertas suara   AHY  kangen  mosing \n"
     ]
    },
    {
     "data": {
      "text/plain": [
       "'Batal nyoblos  baru tau ternyata ga ada no  di kertas suara   AHY  kangen  mosing'"
      ]
     },
     "execution_count": 7,
     "metadata": {},
     "output_type": "execute_result"
    }
   ],
   "source": [
    "# Menghapus angka\n",
    "print(teks[11])\n",
    "teks[11] = re.sub(\"\\S*\\d\\S*\", \"\", teks[11]).strip()\n",
    "teks[11] = re.sub(r\"\\b\\d+\\b\", \" \", teks[11])\n",
    "teks[11]"
   ]
  },
  {
   "cell_type": "code",
   "execution_count": 8,
   "id": "810ce6e5",
   "metadata": {
    "colab": {
     "base_uri": "https://localhost:8080/",
     "height": 157
    },
    "id": "810ce6e5",
    "outputId": "4640c2d5-5494-44a7-f767-8d496b6e0783"
   },
   "outputs": [
    {
     "name": "stdout",
     "output_type": "stream",
     "text": [
      "Batal nyoblos  baru tau ternyata ga ada no  di kertas suara   AHY  kangen  mosing\n"
     ]
    },
    {
     "data": {
      "text/plain": [
       "'batal nyoblos  baru tau ternyata ga ada no  di kertas suara   ahy  kangen  mosing'"
      ]
     },
     "execution_count": 8,
     "metadata": {},
     "output_type": "execute_result"
    }
   ],
   "source": [
    "#Mengubah text menjadi lowercase\n",
    "print(teks[11])\n",
    "\n",
    "teks[11]=teks[11].lower()\n",
    "teks[11]"
   ]
  },
  {
   "cell_type": "code",
   "execution_count": 9,
   "id": "68a489d6",
   "metadata": {
    "colab": {
     "base_uri": "https://localhost:8080/",
     "height": 157
    },
    "id": "68a489d6",
    "outputId": "c8f2c411-1448-4096-ff78-387f5b4fc436"
   },
   "outputs": [
    {
     "name": "stdout",
     "output_type": "stream",
     "text": [
      "batal nyoblos  baru tau ternyata ga ada no  di kertas suara   ahy  kangen  mosing\n"
     ]
    },
    {
     "data": {
      "text/plain": [
       "'batal nyoblos baru tau ternyata ga ada no di kertas suara ahy kangen mosing'"
      ]
     },
     "execution_count": 9,
     "metadata": {},
     "output_type": "execute_result"
    }
   ],
   "source": [
    "# Menghapus white space\n",
    "print(teks[11])\n",
    "\n",
    "teks[11]=re.sub('[\\s]+', ' ', teks[11])\n",
    "teks[11]"
   ]
  },
  {
   "cell_type": "markdown",
   "id": "f7d9b096",
   "metadata": {
    "id": "f7d9b096"
   },
   "source": [
    "Membuat Fungsi untuk Melakukan Case Folding"
   ]
  },
  {
   "cell_type": "code",
   "execution_count": 10,
   "id": "8353f682",
   "metadata": {
    "id": "8353f682"
   },
   "outputs": [],
   "source": [
    "import re, string, unicodedata \n",
    "def Case_Folding(text):\n",
    "    # Hapus non-ascii\n",
    "    text = unicodedata.normalize('NFKD', text).encode('ascii', 'ignore').decode('utf-8', 'ignore')\n",
    "    \n",
    "    # Menghapus Tanda Baca\n",
    "    text = re.sub(r'[^\\w]|_',' ', text)\n",
    "    \n",
    "    # Menghapus Angka\n",
    "    text = re.sub(\"\\S*\\d\\S*\", \"\", text).strip()\n",
    "    text = re.sub(r\"\\b\\d+\\b\", \" \", text)\n",
    "    \n",
    "    # Mengubah text menjadi lowercase\n",
    "    text = text.lower()\n",
    "    \n",
    "    # Menghapus white space\n",
    "    text = re.sub('[\\s]+', ' ', text)\n",
    "    \n",
    "    return text"
   ]
  },
  {
   "cell_type": "markdown",
   "id": "5c009c02",
   "metadata": {
    "id": "5c009c02"
   },
   "source": [
    "## Lemmatization\n",
    "\n",
    "Proses pengurangan berbagai bentuk kata yang berubah menjadi satu bentuk untuk memudahkan analisis. e.g. kata dari “swim”, “swimming”, “swims”, “swam”, adalah semua bentuk dari “swim”. Nah jadi lemma dari semua kata-kata tersebut adalah “swim”.\n",
    "\n",
    "Untuk data teks berbahasa Indonesia, kita akan menggunakan library `nlp-id`. Pertama kita harus menginstallnya terlebih dahulu."
   ]
  },
  {
   "cell_type": "markdown",
   "id": "a9f61388",
   "metadata": {
    "id": "a9f61388"
   },
   "source": [
    "``` python\n",
    "!pip install nlp-id    \n",
    "```"
   ]
  },
  {
   "cell_type": "markdown",
   "id": "ef775957",
   "metadata": {
    "id": "ef775957"
   },
   "source": [
    "Kemudian kita akan menggunakan fungsi `Lemmatizer()` untuk melakukan lemmatisasi data teks."
   ]
  },
  {
   "cell_type": "code",
   "execution_count": null,
   "id": "e116bc02",
   "metadata": {
    "colab": {
     "base_uri": "https://localhost:8080/",
     "height": 157
    },
    "id": "e116bc02",
    "outputId": "698caaed-32ce-4d60-9788-c8f8f96ad4a2"
   },
   "outputs": [
    {
     "name": "stdout",
     "output_type": "stream",
     "text": [
      "batal nyoblos baru tau ternyata ga ada no di kertas suara ahy kangen mosing\n"
     ]
    },
    {
     "name": "stderr",
     "output_type": "stream",
     "text": [
      "/usr/local/lib/python3.7/dist-packages/ipykernel_launcher.py:4: SettingWithCopyWarning: \n",
      "A value is trying to be set on a copy of a slice from a DataFrame\n",
      "\n",
      "See the caveats in the documentation: https://pandas.pydata.org/pandas-docs/stable/user_guide/indexing.html#returning-a-view-versus-a-copy\n",
      "  after removing the cwd from sys.path.\n"
     ]
    },
    {
     "data": {
      "application/vnd.google.colaboratory.intrinsic+json": {
       "type": "string"
      },
      "text/plain": [
       "'batal nyoblos baru tau nyata ga ada no di kertas suara ahy kangen mosing'"
      ]
     },
     "execution_count": 15,
     "metadata": {},
     "output_type": "execute_result"
    }
   ],
   "source": [
    "from nlp_id.lemmatizer import Lemmatizer \n",
    "lemmatizer = Lemmatizer() \n",
    "print(teks[11])\n",
    "teks[11]=lemmatizer.lemmatize(teks[11]) \n",
    "teks[11]"
   ]
  },
  {
   "cell_type": "markdown",
   "id": "d7933827",
   "metadata": {
    "id": "d7933827"
   },
   "source": [
    "## Stemming\n",
    "\n",
    "Stemming merupakan suatu proses untuk menemukan kata dasar dari sebuah kata. Dengan menghilangkan semua imbuhan (affixes) baik yang terdiri dari awalan (prefixes), sisipan (infixes), akhiran (suffixes) dan confixes (kombinasi dari awalan dan akhiran) pada kata turunan. Stemming digunakan untuk mengganti bentuk dari suatu kata menjadi kata dasar dari kata tersebut yang sesuai dengan struktur morfologi Bahasa Indonesia yang baik dan benar. \n",
    "\n",
    "Untuk data teks berbahasa Indonesia, kita akan menggunakan library `PySastrawi`. Pertama kita harus menginstallnya terlebih dahulu."
   ]
  },
  {
   "cell_type": "markdown",
   "id": "74a2a426",
   "metadata": {
    "id": "74a2a426"
   },
   "source": [
    "```python\n",
    "!pip install PySastrawi\n",
    "```"
   ]
  },
  {
   "cell_type": "markdown",
   "id": "6d66e23b",
   "metadata": {
    "id": "6d66e23b"
   },
   "source": [
    "Kemudian kita akan menggunakan fungsi `StemmerFactory()` untuk melakukan stemming."
   ]
  },
  {
   "cell_type": "code",
   "execution_count": 11,
   "id": "8c84f31f",
   "metadata": {
    "colab": {
     "base_uri": "https://localhost:8080/",
     "height": 157
    },
    "id": "8c84f31f",
    "outputId": "8297ca14-00cb-459b-cc82-5de685430e28"
   },
   "outputs": [
    {
     "name": "stdout",
     "output_type": "stream",
     "text": [
      "sudah boleh Ngakak? survey mu jauh panggang dari api ! #Ahy\n"
     ]
    },
    {
     "data": {
      "text/plain": [
       "'sudah boleh ngakak survey mu jauh panggang dari api ahy'"
      ]
     },
     "execution_count": 11,
     "metadata": {},
     "output_type": "execute_result"
    }
   ],
   "source": [
    "from Sastrawi.Stemmer.StemmerFactory import StemmerFactory\n",
    "\n",
    "# Membuat stemmer\n",
    "factory = StemmerFactory()\n",
    "stemmer = factory.create_stemmer()\n",
    "print(teks[12])\n",
    "\n",
    "teks[12] = stemmer.stem(teks[12])\n",
    "teks[12]"
   ]
  },
  {
   "cell_type": "markdown",
   "id": "f28ae93d",
   "metadata": {
    "id": "f28ae93d"
   },
   "source": [
    "## Slang Words\n",
    "\n",
    "Slang adalah kata-kata yang tidak baku secara bahasa namun sering dipakai oleh pengguna bahasa. Kita perlu melakukan standarisasi untuk slang.\n"
   ]
  },
  {
   "cell_type": "code",
   "execution_count": 12,
   "id": "391d8c56",
   "metadata": {
    "id": "391d8c56"
   },
   "outputs": [],
   "source": [
    "slang_dictionary = pd.read_csv('https://raw.githubusercontent.com/nikovs/data-science-portfolio/master/topic%20modelling/colloquial-indonesian-lexicon.csv')\n",
    "slang_dict = pd.Series(slang_dictionary['formal'].values,index=slang_dictionary['slang']).to_dict()"
   ]
  },
  {
   "cell_type": "code",
   "execution_count": 13,
   "id": "535cdef0",
   "metadata": {
    "id": "535cdef0"
   },
   "outputs": [],
   "source": [
    "def Slangwords(text):\n",
    "    for word in text.split():\n",
    "        if word in slang_dict.keys():\n",
    "            text = text.replace(word, slang_dict[word])\n",
    "    return text"
   ]
  },
  {
   "cell_type": "code",
   "execution_count": 14,
   "id": "e7b49036",
   "metadata": {
    "colab": {
     "base_uri": "https://localhost:8080/",
     "height": 174
    },
    "id": "e7b49036",
    "outputId": "6cc90132-046b-48c8-bded-ab13998b33ef"
   },
   "outputs": [
    {
     "name": "stdout",
     "output_type": "stream",
     "text": [
      "Banyak akun kloning seolah2 pendukung #agussilvy mulai menyerang paslon #aniessandi dengan opini dan argumen pmbenaran..jangan terkecoh\n"
     ]
    },
    {
     "data": {
      "text/plain": [
       "'Banyak akun kloning seolah2 pendukung #agussilvy mulai menyerang paslon #aniessandi dengan opini dan argumen pmbenaran..jangan terkecoh'"
      ]
     },
     "execution_count": 14,
     "metadata": {},
     "output_type": "execute_result"
    }
   ],
   "source": [
    "print(teks[0])\n",
    "\n",
    "teks[0]=Slangwords(teks[0]) \n",
    "teks[0]"
   ]
  },
  {
   "cell_type": "markdown",
   "id": "ffeb766e",
   "metadata": {
    "id": "ffeb766e"
   },
   "source": [
    "## Stopword"
   ]
  },
  {
   "cell_type": "markdown",
   "id": "73635c26",
   "metadata": {
    "id": "73635c26"
   },
   "source": [
    "Stop words adalah kata umum (common words) yang biasanya muncul dalam jumlah besar dan dianggap tidak memiliki makna.  Stop words umumnya dimanfaatkan dalam task information retrieval, termasuk oleh Google (penjelasannya di sini).  Contoh stop words untuk bahasa Inggris diantaranya “of”, “the”.  Sedangkan untuk bahasa Indonesia diantaranya “yang”, “di”, “ke”."
   ]
  },
  {
   "cell_type": "code",
   "execution_count": null,
   "id": "9db75449",
   "metadata": {
    "id": "9db75449"
   },
   "outputs": [],
   "source": [
    "from nlp_id.stopword import StopWord \n",
    "stopword = StopWord() "
   ]
  },
  {
   "cell_type": "code",
   "execution_count": null,
   "id": "8eaa37ee",
   "metadata": {
    "colab": {
     "base_uri": "https://localhost:8080/",
     "height": 157
    },
    "id": "8eaa37ee",
    "outputId": "21f5b5ae-3fc4-406a-895b-851dc648954c"
   },
   "outputs": [
    {
     "name": "stdout",
     "output_type": "stream",
     "text": [
      "batal nyoblos baru tau nyata ga ada no di kertas suara ahy kangen mosing\n"
     ]
    },
    {
     "name": "stderr",
     "output_type": "stream",
     "text": [
      "/usr/local/lib/python3.7/dist-packages/ipykernel_launcher.py:4: SettingWithCopyWarning: \n",
      "A value is trying to be set on a copy of a slice from a DataFrame\n",
      "\n",
      "See the caveats in the documentation: https://pandas.pydata.org/pandas-docs/stable/user_guide/indexing.html#returning-a-view-versus-a-copy\n",
      "  after removing the cwd from sys.path.\n"
     ]
    },
    {
     "data": {
      "application/vnd.google.colaboratory.intrinsic+json": {
       "type": "string"
      },
      "text/plain": [
       "'batal nyoblos tau nyata ga no kertas ahy kangen mosing'"
      ]
     },
     "execution_count": 23,
     "metadata": {},
     "output_type": "execute_result"
    }
   ],
   "source": [
    "from nlp_id.stopword import StopWord \n",
    "print(teks[11])\n",
    "\n",
    "teks[11]=stopword.remove_stopword(teks[11])\n",
    "teks[11]"
   ]
  },
  {
   "cell_type": "markdown",
   "id": "110e0505",
   "metadata": {
    "id": "110e0505"
   },
   "source": [
    "## Unwanted Words"
   ]
  },
  {
   "cell_type": "markdown",
   "id": "978099ed",
   "metadata": {
    "id": "978099ed"
   },
   "source": [
    "Unwanted words adalah kata-kata yang berada di luar beberapa hal di atas namun perlu untuk kita hapus. Kita bisa mendefinisikan sendiri kata-kata atau karakter yang ingin kita hilangkan dari data teks yang kita peroleh."
   ]
  },
  {
   "cell_type": "code",
   "execution_count": 15,
   "id": "0e70f648",
   "metadata": {
    "id": "0e70f648"
   },
   "outputs": [],
   "source": [
    "unwanted_words = ['sy', 'karna', 'gue', 'pun', 'nya', 'yg', 'gw', 'ke', 'gak', 'ga', 'buat', 'selama', 'akan', 'gua', 'gw', \n",
    "                 'gue', 'dampak', 'tau', 'banget', 'mohon', 'dii', 'kalo', 'dll', 'kadang', 'ya', 'coba', 'langsung',\n",
    "                 'cuman', 'cuma', 'biar', 'an', 'kayak', 'dar', 'bikin', 'ssaja', 'sih', 'si', 'situ', 'e', 'utk', 'pake',\n",
    "                 'diin', 'serba', 'ampun', 'untuj', 'deh', 'jd', 'ku', 'total', 'lg', 'arti', 'terimakasih','and', 'udah',\n",
    "                 'kali', 'dasar', 'tiada', 'indonesia', 'pas', 'tidiak', 'the', 'http', 'co', 'com', 'di', 'https', 'kak',\n",
    "                 'dr', 'aja', 'klo', 'tp', 'gitu', 'udh', 'min', 'halo', 'tidak', 'bisa', 'sudah', 'yg', 'apa', 'malah',\n",
    "                 'masih', 'mau', 'kok', 'belum', 'buat', 'atau', 'sama', 'gak', 'ga', 'udah', 'banyak', 'selalu', 'masuk',\n",
    "                 'atau', 'belum', 'ini', 'tp', 'ke', 'ya', 'itu', 'aja', 'saja', 'juga', 'aplikasi', 'my pertamina',\n",
    "                 'mypertamina', 'maaf', 'gk', 'tdk', 'trus', 'jg', 'nih', 'sdh', 'mulu', 'padahal', 'kenapa', 'gimana',\n",
    "                 'gmn', 'sih', 'bs', 'suruh', 'tolong', 'dah', 'bagus', 'my', 'pertamina', 'jadi', 'kalau', 'engenggakk',\n",
    "                 'engenggak', 'pakai', 'bilang', 'mending', 'hasil', 'orang', 'muncul', 'ssudah', 'kasih', 'mala', 'malah']"
   ]
  },
  {
   "cell_type": "code",
   "execution_count": 16,
   "id": "c1d6eafe",
   "metadata": {
    "colab": {
     "base_uri": "https://localhost:8080/"
    },
    "id": "c1d6eafe",
    "outputId": "9aa1d17a-8cfb-4e9a-b04e-7cf3ea607586"
   },
   "outputs": [
    {
     "name": "stderr",
     "output_type": "stream",
     "text": [
      "[nltk_data] Downloading package punkt to\n",
      "[nltk_data]     C:\\Users\\User\\AppData\\Roaming\\nltk_data...\n",
      "[nltk_data]   Package punkt is already up-to-date!\n"
     ]
    }
   ],
   "source": [
    "import nltk\n",
    "from nltk import word_tokenize, sent_tokenize\n",
    "nltk.download('punkt')\n",
    "\n",
    "def RemoveUnwantedwords(text):\n",
    "    word_tokens = word_tokenize(text)\n",
    "    filtered_sentence = [word for word in word_tokens if not word in unwanted_words]\n",
    "    return ' '.join(filtered_sentence)"
   ]
  },
  {
   "cell_type": "code",
   "execution_count": 17,
   "id": "66ef3f94",
   "metadata": {
    "colab": {
     "base_uri": "https://localhost:8080/",
     "height": 174
    },
    "id": "66ef3f94",
    "outputId": "068b059f-29a4-4ccf-9a0a-8b90e7286588"
   },
   "outputs": [
    {
     "name": "stdout",
     "output_type": "stream",
     "text": [
      "Banyak akun kloning seolah2 pendukung #agussilvy mulai menyerang paslon #aniessandi dengan opini dan argumen pmbenaran..jangan terkecoh\n"
     ]
    },
    {
     "data": {
      "text/plain": [
       "'Banyak akun kloning seolah2 pendukung # agussilvy mulai menyerang paslon # aniessandi dengan opini dan argumen pmbenaran .. jangan terkecoh'"
      ]
     },
     "execution_count": 17,
     "metadata": {},
     "output_type": "execute_result"
    }
   ],
   "source": [
    "print(teks[0])\n",
    "\n",
    "teks[0]=RemoveUnwantedwords(teks[0])\n",
    "teks[0]"
   ]
  },
  {
   "cell_type": "markdown",
   "id": "d043a7de",
   "metadata": {
    "id": "d043a7de"
   },
   "source": [
    "## Menerapkan Semua Langkah"
   ]
  },
  {
   "cell_type": "code",
   "execution_count": null,
   "id": "03be5a22",
   "metadata": {
    "colab": {
     "base_uri": "https://localhost:8080/"
    },
    "id": "03be5a22",
    "outputId": "32d3ff01-d5fd-4cf8-cb34-6afefbe573e0"
   },
   "outputs": [
    {
     "name": "stderr",
     "output_type": "stream",
     "text": [
      "/usr/local/lib/python3.7/dist-packages/ipykernel_launcher.py:11: SettingWithCopyWarning: \n",
      "A value is trying to be set on a copy of a slice from a DataFrame\n",
      "\n",
      "See the caveats in the documentation: https://pandas.pydata.org/pandas-docs/stable/user_guide/indexing.html#returning-a-view-versus-a-copy\n",
      "  # This is added back by InteractiveShellApp.init_path()\n"
     ]
    }
   ],
   "source": [
    "Hasil_Scrapping['content_processed'] = ''\n",
    "\n",
    "for i, row in Hasil_Scrapping.iterrows():\n",
    "  text_tweet = Hasil_Scrapping['Text Tweet'][i]\n",
    "  result = Case_Folding(text_tweet)\n",
    "  result = lemmatizer.lemmatize(result)\n",
    "  result = stemmer.stem(result)\n",
    "  result = Slangwords(result)\n",
    "  result = stopword.remove_stopword(result)\n",
    "  result = RemoveUnwantedwords(result)\n",
    "  Hasil_Scrapping['content_processed'][i] = result"
   ]
  },
  {
   "cell_type": "code",
   "execution_count": null,
   "id": "0a497c3f",
   "metadata": {
    "colab": {
     "base_uri": "https://localhost:8080/",
     "height": 419
    },
    "id": "0a497c3f",
    "outputId": "403a3fe8-546c-4e93-f1eb-a11c28725843"
   },
   "outputs": [
    {
     "data": {
      "text/html": [
       "<div>\n",
       "<style scoped>\n",
       "    .dataframe tbody tr th:only-of-type {\n",
       "        vertical-align: middle;\n",
       "    }\n",
       "\n",
       "    .dataframe tbody tr th {\n",
       "        vertical-align: top;\n",
       "    }\n",
       "\n",
       "    .dataframe thead th {\n",
       "        text-align: right;\n",
       "    }\n",
       "</style>\n",
       "<table border=\"1\" class=\"dataframe\">\n",
       "  <thead>\n",
       "    <tr style=\"text-align: right;\">\n",
       "      <th></th>\n",
       "      <th>Text Tweet</th>\n",
       "      <th>content_processed</th>\n",
       "    </tr>\n",
       "  </thead>\n",
       "  <tbody>\n",
       "    <tr>\n",
       "      <th>0</th>\n",
       "      <td>Banyak akun kloning seolah2 pendukung # agussi...</td>\n",
       "      <td>akun kloning dukung agussilvy serang paslon an...</td>\n",
       "    </tr>\n",
       "    <tr>\n",
       "      <th>1</th>\n",
       "      <td>#agussilvy bicara apa kasihan yaa...lap itu ai...</td>\n",
       "      <td>agussilvy bicara kasihan lap air mata wkwkwkwk</td>\n",
       "    </tr>\n",
       "    <tr>\n",
       "      <th>2</th>\n",
       "      <td>Kalau aku sih gak nunggu hasil akhir QC tp lag...</td>\n",
       "      <td>enggak memenunggu qc memenunggu motif cuit sby...</td>\n",
       "    </tr>\n",
       "    <tr>\n",
       "      <th>3</th>\n",
       "      <td>Kasian oh kasian dengan peluru 1milyar untuk t...</td>\n",
       "      <td>kasihh oh kasihh peluru rw agussilvy mempan me...</td>\n",
       "    </tr>\n",
       "    <tr>\n",
       "      <th>4</th>\n",
       "      <td>Maaf ya pendukung #AgusSilvy..hayo dukung #Ani...</td>\n",
       "      <td>dukung agussilvy hayo dukung aniessandi putar ...</td>\n",
       "    </tr>\n",
       "    <tr>\n",
       "      <th>...</th>\n",
       "      <td>...</td>\n",
       "      <td>...</td>\n",
       "    </tr>\n",
       "    <tr>\n",
       "      <th>895</th>\n",
       "      <td>Kali saja bpk @aniesbaswedan @sandiuno lihat, ...</td>\n",
       "      <td>bpk aniesbaswedan sandiuno lihat rspun selfie ...</td>\n",
       "    </tr>\n",
       "    <tr>\n",
       "      <th>896</th>\n",
       "      <td>Kita harus dapat merangkul semua orang tanpa b...</td>\n",
       "      <td>rangkul batas usia kelamin okeoce ok hand sala...</td>\n",
       "    </tr>\n",
       "    <tr>\n",
       "      <th>897</th>\n",
       "      <td>Ini jagoanku dibidang digital &lt;Smiling Face Wi...</td>\n",
       "      <td>jago bidang digital smiling face with sunglass...</td>\n",
       "    </tr>\n",
       "    <tr>\n",
       "      <th>898</th>\n",
       "      <td>#PesanBijak #OkeOce #GubernurGu3 ...</td>\n",
       "      <td>pesanbijak okeoce</td>\n",
       "    </tr>\n",
       "    <tr>\n",
       "      <th>899</th>\n",
       "      <td>Sandiaga: Bangun Rumah DP 0% Lebih Simpel Diba...</td>\n",
       "      <td>sandiaga bangun rumah dp simpel banding tol ci...</td>\n",
       "    </tr>\n",
       "  </tbody>\n",
       "</table>\n",
       "<p>900 rows × 2 columns</p>\n",
       "</div>"
      ],
      "text/plain": [
       "                                            Text Tweet                                  content_processed\n",
       "0    Banyak akun kloning seolah2 pendukung # agussi...  akun kloning dukung agussilvy serang paslon an...\n",
       "1    #agussilvy bicara apa kasihan yaa...lap itu ai...     agussilvy bicara kasihan lap air mata wkwkwkwk\n",
       "2    Kalau aku sih gak nunggu hasil akhir QC tp lag...  enggak memenunggu qc memenunggu motif cuit sby...\n",
       "3    Kasian oh kasian dengan peluru 1milyar untuk t...  kasihh oh kasihh peluru rw agussilvy mempan me...\n",
       "4    Maaf ya pendukung #AgusSilvy..hayo dukung #Ani...  dukung agussilvy hayo dukung aniessandi putar ...\n",
       "..                                                 ...                                                ...\n",
       "895  Kali saja bpk @aniesbaswedan @sandiuno lihat, ...  bpk aniesbaswedan sandiuno lihat rspun selfie ...\n",
       "896  Kita harus dapat merangkul semua orang tanpa b...  rangkul batas usia kelamin okeoce ok hand sala...\n",
       "897  Ini jagoanku dibidang digital <Smiling Face Wi...  jago bidang digital smiling face with sunglass...\n",
       "898               #PesanBijak #OkeOce #GubernurGu3 ...                                  pesanbijak okeoce\n",
       "899  Sandiaga: Bangun Rumah DP 0% Lebih Simpel Diba...  sandiaga bangun rumah dp simpel banding tol ci...\n",
       "\n",
       "[900 rows x 2 columns]"
      ]
     },
     "execution_count": 33,
     "metadata": {},
     "output_type": "execute_result"
    }
   ],
   "source": [
    "Hasil_Scrapping[['Text Tweet', 'content_processed']]"
   ]
  }
 ],
 "metadata": {
  "colab": {
   "collapsed_sections": [],
   "name": "Copy of Untitled2.ipynb",
   "provenance": []
  },
  "kernelspec": {
   "display_name": "Python 3",
   "language": "python",
   "name": "python3"
  },
  "language_info": {
   "codemirror_mode": {
    "name": "ipython",
    "version": 3
   },
   "file_extension": ".py",
   "mimetype": "text/x-python",
   "name": "python",
   "nbconvert_exporter": "python",
   "pygments_lexer": "ipython3",
   "version": "3.9.7"
  }
 },
 "nbformat": 4,
 "nbformat_minor": 5
}
