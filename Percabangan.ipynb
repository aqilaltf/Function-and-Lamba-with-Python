{
 "cells": [
  {
   "cell_type": "markdown",
   "id": "varying-family",
   "metadata": {},
   "source": [
    "# Pembukaan"
   ]
  },
  {
   "cell_type": "markdown",
   "id": "introductory-kingston",
   "metadata": {},
   "source": [
    "Assalamu'alaikum warahmatullahi wabarakatuh. Puji syukur kehadirat Allah Subhana Wata'ala atas limpahan Rahmat dan HidayahNya kepada kita semua. Sholawat serta salam senantiasa tercurah limpahkan kepada baginda Muhammad Rasulullah Salallahualaihiwassalam.\n",
    "\n",
    "Halo para **Pejuang Data**. Selamat berjumpa di pertemuan pertama Program Training **Algoritma Machine Learning** Kelas Mahir.\n",
    "\n",
    "Pada pertemuan ini kamu akan belajar:\n",
    "* Percabangan/ Struktur Pemilihan\n",
    "* IF Statements\n",
    "* IF ELSE Statements\n",
    "* IF ELIF ELSE Statements\n",
    "* Python Nested IF Statements\n",
    "* Latihan"
   ]
  },
  {
   "cell_type": "markdown",
   "id": "signed-provincial",
   "metadata": {},
   "source": [
    "# Percabangan/ Struktur Pemilihan"
   ]
  },
  {
   "cell_type": "markdown",
   "id": "accurate-interview",
   "metadata": {},
   "source": [
    "Pada bagian ini, kamu akan membuat keputusan pada bahasa pemrograman Python menggunakan struktur percabangan atau juga sering disebut IF ELSE Statement. Pengambilan keputusan dibutuhkan ketika kamu akan mengeksekusi suatu kode jika sebuah kondisi tertentu dipenuhi.\n",
    "\n",
    "Statement if .. elif ... else digunakan pada bahasa Python untuk pengambilan keputusan"
   ]
  },
  {
   "cell_type": "markdown",
   "id": "blind-confidence",
   "metadata": {},
   "source": [
    "# IF Statements"
   ]
  },
  {
   "cell_type": "markdown",
   "id": "extraordinary-context",
   "metadata": {},
   "source": [
    "**Python IF Statement Syntax**\n",
    "\n",
    "    if test expression:\n",
    "        statement(s)\n",
    "\n",
    "Program akan mengevaluasi nilai dari test expression yang diberikan kemudian akan mengeksekusi statement(s) hanya jika test expression bernilai True.\n",
    "\n",
    "Jika test expression bernilai False , maka statement(s) tidak dieksekusi. Seperti telah disampaikan pada pertemuan sebelumnya bahwa bagian body dari statement if diindikasikan dengan indentasi. Statement-statement yang akan dijalankan jika test expression bernilai True ditulis pada baris selanjutnya dan menjorok ke dalam.\n",
    "\n",
    "Sebagai catatan tambahan bahwa Python menginterpretasikan non-zero values sebagai True . None dan 0 diinterpretasikan sebagai False ."
   ]
  },
  {
   "cell_type": "markdown",
   "id": "northern-democracy",
   "metadata": {},
   "source": [
    "**Python IF Statement Flowchart**"
   ]
  },
  {
   "attachments": {
    "perulangan1.jpg": {
     "image/jpeg": "[encoded data removed]"
    }
   },
   "cell_type": "markdown",
   "id": "magnetic-madonna",
   "metadata": {},
   "source": [
    "![perulangan1.jpg](attachment:perulangan1.jpg)"
   ]
  },
  {
   "cell_type": "markdown",
   "id": "simplified-cheese",
   "metadata": {},
   "source": [
    "**Example: Python IF Statement**"
   ]
  },
  {
   "cell_type": "code",
   "execution_count": 4,
   "id": "catholic-numbers",
   "metadata": {},
   "outputs": [
    {
     "name": "stdout",
     "output_type": "stream",
     "text": [
      "3 adalah bilangan positif.\n",
      "Pernyataan ini selalu ditampilkan.\n",
      "Pernyataan ini juga selalu ditampilkan.\n"
     ]
    }
   ],
   "source": [
    "# Jika angka adalah bilangan positif maka print \"adalah bilangan positif\"\n",
    "\n",
    "angka = 3\n",
    "if angka > 0:\n",
    "    print(angka, \"adalah bilangan positif.\")\n",
    "print(\"Pernyataan ini selalu ditampilkan.\")\n",
    "\n",
    "angka = -1\n",
    "if angka > 0:\n",
    "    print(angka, \"adalah bilangan positif.\")\n",
    "print(\"Pernyataan ini juga selalu ditampilkan.\")"
   ]
  },
  {
   "cell_type": "markdown",
   "id": "quiet-essex",
   "metadata": {},
   "source": [
    "Pada contoh di atas, angka > 0 adalah test expression . Bagian body dari if dieksekusi hanya jika hasil evaluasi dari test expression adalah bernilai True.\n",
    "\n",
    "Ketika variabel angka bernilai 3, test expression bernilai True sehingga statement di dalam bagian body dari if akan dieksekusi. Sedangkan ketika variabel angka bernilai -1, test expression bernilai False sehingga statement di dalam bagian body dari if tidak dieksekusi(di skip).\n",
    "\n",
    "Statement print() di luar blok if (yang tidak terindentasi) akan selalu dieksekusi."
   ]
  },
  {
   "cell_type": "markdown",
   "id": "suitable-smith",
   "metadata": {},
   "source": [
    "# IF ELSE Statements"
   ]
  },
  {
   "cell_type": "markdown",
   "id": "consolidated-buddy",
   "metadata": {},
   "source": [
    "**Python IF ELSE Statement Syntax**\n",
    "\n",
    "    if test expression:\n",
    "        Body of if\n",
    "    else :\n",
    "        Body of else"
   ]
  },
  {
   "cell_type": "markdown",
   "id": "satisfied-lightning",
   "metadata": {},
   "source": [
    "Statement if ... else mengevaluasi test expression dan akan mengeksekusi bagian body of if hanya jika test expression bernilai True .\n",
    "\n",
    "Jika test expression bernilai False , maka bagian body of else akan dieksekusi. Indentasi juga digunakan pada bagian ini.\n",
    "\n",
    "**Python IF ELSE Statement Flowchart**"
   ]
  },
  {
   "attachments": {
    "percabangan1.jpg": {
     "image/jpeg": "[encoded data removed]"
    }
   },
   "cell_type": "markdown",
   "id": "advised-independence",
   "metadata": {},
   "source": [
    "![percabangan1.jpg](attachment:percabangan1.jpg)"
   ]
  },
  {
   "cell_type": "markdown",
   "id": "armed-least",
   "metadata": {},
   "source": [
    "**Example: Python IF ELSE Statement**"
   ]
  },
  {
   "cell_type": "code",
   "execution_count": 5,
   "id": "deluxe-affiliate",
   "metadata": {},
   "outputs": [
    {
     "name": "stdout",
     "output_type": "stream",
     "text": [
      "Bilangan Positif atau Nol\n"
     ]
    }
   ],
   "source": [
    "# Program disusun untuk mengecek apakah angka merupakan bilangan positif atau negatif\n",
    "# dan menampilkan tulisan yang sesuai\n",
    "\n",
    "angka = 3\n",
    "\n",
    "# Kamu bisa mencoba angka-angka lainnya berikut:\n",
    "# angka = -5\n",
    "# angka = 0\n",
    "\n",
    "if angka >= 0:\n",
    "    print(\"Bilangan Positif atau Nol\")\n",
    "else:\n",
    "    print(\"Bilangan Negatif\")"
   ]
  },
  {
   "cell_type": "markdown",
   "id": "inside-alarm",
   "metadata": {},
   "source": [
    "Pada contoh di atas, ketika angka sama dengan 3, test expression bernilai True dan bagian body dari if dieksekusi sedangkan bagian body dari else diabaikan.\n",
    "\n",
    "Ketika angka sama dengan -5, test expression bernilai False dan bagian body dari if diabaikan sedangkan bagian body dari else dieksekusi.\n",
    "\n",
    "Jika angka sama dengan 0, test expression bernilai True dan bagian body dari if dieksekusi sedangkan bagian body dari else diabaikan."
   ]
  },
  {
   "cell_type": "code",
   "execution_count": 6,
   "id": "offshore-latvia",
   "metadata": {},
   "outputs": [
    {
     "name": "stdout",
     "output_type": "stream",
     "text": [
      "a dan b bernilai sama\n"
     ]
    }
   ],
   "source": [
    "# Program disusun untuk mengecek apakah dua buah angka sama atau tidak\n",
    "# dan menampilkan tulisan yang sesuai\n",
    "\n",
    "a = 5\n",
    "b = 5\n",
    "\n",
    "if a==b:\n",
    "    print(\"a dan b bernilai sama\")\n",
    "else:\n",
    "    print(\"a dan b bernilai berbeda\")\n",
    "    print(\"Halo\")"
   ]
  },
  {
   "cell_type": "code",
   "execution_count": 7,
   "id": "seventh-stephen",
   "metadata": {},
   "outputs": [
    {
     "name": "stdout",
     "output_type": "stream",
     "text": [
      "Masukkan bilangan pertama: 10\n",
      "Masukkan bilangan kedua: 10\n",
      "Bilangan yang lebih besar adalah: 10\n"
     ]
    }
   ],
   "source": [
    "# Program disusun untuk mengecek apakah perbandingan dua buah angka\n",
    "# dan menampilkan tulisan yang sesuai\n",
    "\n",
    "# membaca dua angka\n",
    "bilangan1 = int(input(\"Masukkan bilangan pertama: \"))\n",
    "bilangan2 = int(input(\"Masukkan bilangan kedua: \"))\n",
    "\n",
    "# memilih bilangan yang lebih besar\n",
    "if bilangan1 > bilangan2:\n",
    "    bilangan_lebih_besar = bilangan1\n",
    "else:\n",
    "    bilangan_lebih_besar = bilangan2\n",
    "\n",
    "# menampilkan hasil\n",
    "print(\"Bilangan yang lebih besar adalah:\", bilangan_lebih_besar)"
   ]
  },
  {
   "cell_type": "markdown",
   "id": "laden-sensitivity",
   "metadata": {},
   "source": [
    "# IF ELIF ELSE Statements"
   ]
  },
  {
   "cell_type": "markdown",
   "id": "increasing-netherlands",
   "metadata": {},
   "source": [
    "**Python IF ELIF ELSE Statement Syntax**"
   ]
  },
  {
   "cell_type": "markdown",
   "id": "after-corner",
   "metadata": {},
   "source": [
    "    if test expression:\n",
    "        Body of if\n",
    "    elif test expression:\n",
    "        Body of elif\n",
    "    else :\n",
    "        Body of else\n"
   ]
  },
  {
   "cell_type": "markdown",
   "id": "according-sense",
   "metadata": {},
   "source": [
    "elif adalah kependekan dari else if. Perintah ini bertugas untuk mengecek beberapa test expression .\n",
    "\n",
    "Jika kondisi untuk statement if bernilai False , maka akan mengecek ke kondisi elif selanjutnya dan begitu seterusnya. Jika semua kondisi pada statement if dan elif bernilai False maka, bagian body dari else akan dieksekusi.\n",
    "\n",
    "Hanya satu blok di antara if , elif , dan else yangakan dieksekusi berdasarkan kondisi yang sesuai.\n",
    "\n",
    "Pada sebuah if blok hanya diijinkan sebuah else blok namun dapat memiliki beberapa blok elif .\n",
    "\n",
    "**Python IF ELIF ELSE Statement Flow Chart**"
   ]
  },
  {
   "attachments": {
    "Screenshot%202021-09-30%20222143.jpg": {
     "image/jpeg": "[encoded data removed]"
    }
   },
   "cell_type": "markdown",
   "id": "coastal-athens",
   "metadata": {},
   "source": [
    "![Screenshot%202021-09-30%20222143.jpg](attachment:Screenshot%202021-09-30%20222143.jpg)"
   ]
  },
  {
   "cell_type": "markdown",
   "id": "cheap-hindu",
   "metadata": {},
   "source": [
    "**Example: Python IF ELIF ELSE Statement**"
   ]
  },
  {
   "cell_type": "code",
   "execution_count": 8,
   "id": "scientific-plaza",
   "metadata": {},
   "outputs": [
    {
     "name": "stdout",
     "output_type": "stream",
     "text": [
      "Bilangan Positif\n"
     ]
    }
   ],
   "source": [
    "# Program disusun untuk mengecek apakah angka merupakan bilangan positif, negatif atau nol\n",
    "# dan menampilkan tulisan yang sesuai\n",
    "\n",
    "angka = 3.4\n",
    "\n",
    "# Kamu bisa mencoba angka-angka lainnya berikut:\n",
    "# angka = 0\n",
    "# angka = -4.5\n",
    "\n",
    "if angka > 0:\n",
    "    print(\"Bilangan Positif\")\n",
    "elif num == 0:\n",
    "    print(\"Nol\")\n",
    "else:\n",
    "    print(\"Bilangan Negatif\")"
   ]
  },
  {
   "cell_type": "markdown",
   "id": "textile-impossible",
   "metadata": {},
   "source": [
    "Ketika variabel angka bernilai positif , maka Bilangan Positif ditampilkan.\n",
    "\n",
    "Jika angka sama dengan 0, maka Nol ditampilkan.\n",
    "\n",
    "Jika angka bernilai negatif , maka Bilangan Negatif ditampilkan."
   ]
  },
  {
   "cell_type": "code",
   "execution_count": 9,
   "id": "arabic-jenny",
   "metadata": {},
   "outputs": [
    {
     "name": "stdout",
     "output_type": "stream",
     "text": [
      "x habis dibagi dua\n",
      "x tidak habis dibagi dua, tiga ataupun lima\n"
     ]
    }
   ],
   "source": [
    "# Statement if\n",
    "x = 4\n",
    "if x % 2 == 0: # jika sisa bagi x dengan 2 sama dengan 0\n",
    "    print(\"x habis dibagi dua\") # statemen aksi lebih menjorok ke dalam\n",
    "\n",
    "# Statement if ... elif ... else\n",
    "x = 7\n",
    "if x % 2 == 0: # jika sisa bagi x dengan 2 sama dengan 0\n",
    "    print(\"x habis dibagi dua\")\n",
    "elif x % 3 ==0: # jika sisa bagi x dengan 3 sama dengan 0\n",
    "    print(\"x habis dibagi tiga\")\n",
    "elif x % 5 ==0: # jika sisa bagi x dengan 5 sama dengan 0\n",
    "    print(\"x habis dibagi lima\")\n",
    "else:\n",
    "    print(\"x tidak habis dibagi dua, tiga ataupun lima\")"
   ]
  },
  {
   "cell_type": "markdown",
   "id": "difficult-harvest",
   "metadata": {},
   "source": [
    "# Python Nested IF Statements"
   ]
  },
  {
   "cell_type": "markdown",
   "id": "satellite-sierra",
   "metadata": {},
   "source": [
    "Kita dapat membuat statement if...elif...else di dalam statement if...elif...else lainnya. Ini disebut sebagai nesting dalam computer programming .\n",
    "\n",
    "Sejumlah pernyataan ini dapat bersarang( nesting ) di dalam satu sama lain. Indentasi adalah satu-satunya cara untuk mengetahui tingkat bersarang. Mereka bisa membingungkan, jadi mereka harus dihindari kecuali jika perlu.\n",
    "\n",
    "**Example: Python NESTED IF Statement**"
   ]
  },
  {
   "cell_type": "code",
   "execution_count": 10,
   "id": "compatible-mining",
   "metadata": {},
   "outputs": [
    {
     "name": "stdout",
     "output_type": "stream",
     "text": [
      "Masukkan angka: 9\n",
      "Bilangan Positif\n"
     ]
    }
   ],
   "source": [
    "# Program disusun untuk mengecek apakah angka merupakan bilangan positif, negatif atau nol\n",
    "# dan menampilkan tulisan yang sesuai\n",
    "\n",
    "angka = float(input(\"Masukkan angka: \"))\n",
    "if angka >= 0:\n",
    "    if angka == 0:\n",
    "        print(\"Nol\")\n",
    "    else:\n",
    "        print(\"Bilangan Positif\")\n",
    "else:\n",
    "    print(\"Bilangan Negatif\")"
   ]
  },
  {
   "cell_type": "markdown",
   "id": "uniform-check",
   "metadata": {},
   "source": [
    "# Latihan"
   ]
  },
  {
   "cell_type": "markdown",
   "id": "reserved-sacrifice",
   "metadata": {},
   "source": [
    "1. Buatlah sebuah fungsi \"Mahal_Diskon\" dengan ketentuan:\n",
    "\n",
    "    A. Input berupa data harga produk dengan tipe data numerik Tunggal\n",
    "\n",
    "    B. Kategori Input adalah \"Murah\" dan \"Mahal\", kemudian diskon ada 3 kategori \"10 %\", \"20 %\", dan \"\"40%\"\n",
    "\n",
    "    C. Output Pertama sebuah teks/string yang menyatakan \"Mahal\" atau \"Murah\" dan Keterangan \"Kamu Dapat Diskon ...\"\n",
    "\n",
    "    D. Output Kedua adalah harga yang perlu dibayarkan"
   ]
  },
  {
   "cell_type": "code",
   "execution_count": 13,
   "id": "finite-helping",
   "metadata": {},
   "outputs": [
    {
     "name": "stdout",
     "output_type": "stream",
     "text": [
      "Mahal\n",
      "Kamu dapat diskon Rp 44000.0\n",
      "Harga yang perlu dibayarkan: Rp 66000.0\n"
     ]
    }
   ],
   "source": [
    "def Mahal_Diskon(x):\n",
    "    Harga_setelah_diskon = x\n",
    "    if (x >= 90000):\n",
    "        print('Mahal')\n",
    "        diskon = x*(40/100)\n",
    "    elif (x >= 40000):\n",
    "        print('Murah')\n",
    "        diskon = x*(20/100)\n",
    "    else:\n",
    "        print('Murah')\n",
    "        diskon = x*(10/100)\n",
    "  \n",
    "    Harga_setelah_diskon = x - diskon\n",
    "    print('Kamu dapat diskon Rp',diskon)\n",
    "    print('Harga yang perlu dibayarkan: Rp',Harga_setelah_diskon)\n",
    "  \n",
    "Mahal_Diskon(110000)"
   ]
  },
  {
   "cell_type": "markdown",
   "id": "excess-detail",
   "metadata": {},
   "source": [
    "2. Diberi sebuah string, tulislah sebuah fungsi python untuk memeriksa apakah string tersebut merupakan palindrom atau bukan. Sebuah string dikatakan palindrom jika susunan terbalik dari string tersebut sama dengan string pada susunan awalnya. Misalnya, \"radar\" adalah palindrom, tetapi \"radix\" bukanlah palindrom.\n"
   ]
  },
  {
   "cell_type": "code",
   "execution_count": 36,
   "id": "7a71feeb",
   "metadata": {},
   "outputs": [
    {
     "name": "stdout",
     "output_type": "stream",
     "text": [
      "string adalah palindrom.\n"
     ]
    }
   ],
   "source": [
    "def string(x):\n",
    "    x=x.casefold() #mengubah semua karakter string menjadi huruf kecil\n",
    "    if list(x) == list(reversed(x)):\n",
    "        print(\"string adalah palindrom.\")\n",
    "    else:\n",
    "        print(\"string bukan palindrom.\")\n",
    "\n",
    "string('radar')"
   ]
  },
  {
   "cell_type": "markdown",
   "id": "rocky-indianapolis",
   "metadata": {},
   "source": [
    "3. Buatlah fungsi untuk menghitung diskon suatu pembayaran belanjaan dengan input berupa dictionary untuk daftar harga dan dictionary untuk daftar belanjaan!\n",
    "\n",
    "Contoh:\n",
    "\n",
    "    daftar_harga = {'telur/kg':20000, 'gula_pasir/kg':16000, 'teh/bks':4000}\n",
    "    daftar_belanjaan = {'telur':2, 'gula_pasir':5}\n",
    "    jumlah_bayar = pembayaran(daftar_harga, daftar_belanjaan)\n",
    "\n",
    "Output\n",
    "    \n",
    "    120000\n"
   ]
  },
  {
   "cell_type": "code",
   "execution_count": 10,
   "id": "e4629169",
   "metadata": {},
   "outputs": [
    {
     "name": "stdout",
     "output_type": "stream",
     "text": [
      "84000.0\n"
     ]
    }
   ],
   "source": [
    "daftar_harga = {'telur': 20000, 'gula_pasir': 16000, 'teh': 4000}\n",
    "daftar_belanjaan = {'telur': 2, 'gula_pasir': 5}\n",
    "\n",
    "def pembayaran(daftar_harga, daftar_belanjaan):\n",
    "  total = 0\n",
    "  for barang in daftar_harga:\n",
    "    for jml_beli in daftar_belanjaan:\n",
    "      if barang == jml_beli:\n",
    "        total += daftar_harga[barang]*daftar_belanjaan[jml_beli]\n",
    "  diskon = total-total*0.3\n",
    "  return diskon\n",
    "\n",
    "jumlah_bayar = pembayaran(daftar_harga, daftar_belanjaan)\n",
    "print(jumlah_bayar)"
   ]
  }
 ],
 "metadata": {
  "kernelspec": {
   "display_name": "Python 3",
   "language": "python",
   "name": "python3"
  },
  "language_info": {
   "codemirror_mode": {
    "name": "ipython",
    "version": 3
   },
   "file_extension": ".py",
   "mimetype": "text/x-python",
   "name": "python",
   "nbconvert_exporter": "python",
   "pygments_lexer": "ipython3",
   "version": "3.9.7"
  }
 },
 "nbformat": 4,
 "nbformat_minor": 5
}
