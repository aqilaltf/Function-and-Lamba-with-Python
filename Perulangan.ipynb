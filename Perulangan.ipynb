{
 "cells": [
  {
   "cell_type": "markdown",
   "id": "elegant-links",
   "metadata": {},
   "source": [
    "# Pembuka"
   ]
  },
  {
   "cell_type": "markdown",
   "id": "threatened-dealing",
   "metadata": {},
   "source": [
    "Assalamu'alaikum warahmatullahi wabarakatuh. Puji syukur kehadirat Allah Subhana Wata'ala atas limpahan Rahmat dan HidayahNya kepada kita semua. Sholawat serta salam senantiasa tercurah limpahkan kepada baginda Muhammad Rasulullah Salallahualaihiwassalam.\n",
    "\n",
    "Halo para **Pejuang Data**. Selamat berjumpa di pertemuan pertama Program Training **Algoritma Machine Learning** Kelas Mahir.\n",
    "\n",
    "Pada pertemuan ini kamu akan belajar:\n",
    "* Looping/Perulangan\n",
    "* For Loop\n",
    "* While Loop\n",
    "* Contoh Perulangan\n",
    "* Latihan"
   ]
  },
  {
   "cell_type": "markdown",
   "id": "inner-avenue",
   "metadata": {},
   "source": [
    "# Looping/Perulangan"
   ]
  },
  {
   "cell_type": "markdown",
   "id": "sized-statement",
   "metadata": {},
   "source": [
    "Perulangan for digunakan untuk melakukan iterasi di dalam sequence seperti list , tuple , string , dan array atau objek yang dapat diiterasi lainnya.\n",
    "\n",
    "For Loop Syntax\n",
    "\n",
    "    for val in sequence:\n",
    "        loop body\n",
    "\n",
    "Pada proses iterasi ini, val adalah variabel yang diambil dari elemen-elemen di dalam sequence untuk setiap iterasi.\n",
    "\n",
    "Perulangan akan berlangsung hingga elemen terakhir dari sequence . Pada bagian body dari for loop diletakkan dalam indentasi.\n",
    "\n",
    "**For Loop Flowchart**"
   ]
  },
  {
   "attachments": {
    "Screenshot%202021-09-30%20222229.jpg": {
     "image/jpeg": "[encoded data removed]"
    }
   },
   "cell_type": "markdown",
   "id": "rotary-stick",
   "metadata": {},
   "source": [
    "![Screenshot%202021-09-30%20222229.jpg](attachment:Screenshot%202021-09-30%20222229.jpg)"
   ]
  },
  {
   "cell_type": "markdown",
   "id": "clear-fountain",
   "metadata": {},
   "source": [
    "**Example: Python for Loop**"
   ]
  },
  {
   "cell_type": "code",
   "execution_count": 1,
   "id": "dried-white",
   "metadata": {},
   "outputs": [
    {
     "name": "stdout",
     "output_type": "stream",
     "text": [
      "Jumlah : 48\n"
     ]
    }
   ],
   "source": [
    "# Program untuk menghitung jumlah semua angka dalam sebuah list\n",
    "\n",
    "# List angka\n",
    "list_angka = [6, 5, 3, 8, 4, 2, 5, 4, 11]\n",
    "\n",
    "# variabel untuk menyimpan hasil penjumlahan\n",
    "jumlahan = 0\n",
    "\n",
    "# iterasi di dalam list\n",
    "for angka in list_angka:\n",
    "    jumlahan = jumlahan+angka\n",
    "\n",
    "print(\"Jumlah :\", jumlahan)"
   ]
  },
  {
   "cell_type": "markdown",
   "id": "extensive-stranger",
   "metadata": {},
   "source": [
    "**The range() function**\n",
    "\n",
    "Kita dapat membuat sebuah sequence angka menggunakan fungsi range() . range(10) akan menghasilkan sequence angka dari 0 sampai 9(10 angka).\n",
    "\n",
    "Kita juga dapat mendefinisikan nilai awal, nilai akhir dan step sizenya yaitu range(start, stp, step_size). Secara default step_size bernilai 1 jika tidak ditentukan secara khusus.\n",
    "\n",
    "Kita dapat menggunakan fungsi range() di dalam perulangan for untuk melakukan iterasi di dalam sequence numbers . Ini dapat kita kombinasikan dengan fungsi len() untuk melakukan iterasi melalui index dari sebuah sequence . Berikut contohnya:"
   ]
  },
  {
   "cell_type": "code",
   "execution_count": 2,
   "id": "contrary-bangkok",
   "metadata": {},
   "outputs": [
    {
     "name": "stdout",
     "output_type": "stream",
     "text": [
      "Aku suka dangdut\n",
      "Aku suka campursari\n",
      "Aku suka keroncong\n"
     ]
    }
   ],
   "source": [
    "# Program untuk melakukan iterasi di dalam list melalui indeks\n",
    "\n",
    "musik = ['dangdut', 'campursari', 'keroncong']\n",
    "\n",
    "# iterasi di dalam list melalui indeks\n",
    "for i in range(len(musik)):\n",
    "    print(\"Aku suka\", musik[i])"
   ]
  },
  {
   "cell_type": "markdown",
   "id": "moral-subcommittee",
   "metadata": {},
   "source": [
    "**for loop with else**\n",
    "\n",
    "Sebuah for loop dapat memiliki opsi blok else . Blok else akan dijalankan jika iterasi telah selesai dilakukan dalam sebuah sequence .\n",
    "\n",
    "Keyword break digunakan untuk menghentikan iterasi. Dalam kasus itu maka bagian else diabaikan.\n",
    "\n",
    "Sehingga, bagian iterasi else hanya dijalankan jika tidak terjadi break .\n",
    "\n",
    "Berikut adalah beberapa contoh sebagai ilustrasi:"
   ]
  },
  {
   "cell_type": "code",
   "execution_count": 3,
   "id": "functional-library",
   "metadata": {},
   "outputs": [
    {
     "name": "stdout",
     "output_type": "stream",
     "text": [
      "0\n",
      "1\n",
      "5\n",
      "Tidak ada elemen yang tersisa.\n"
     ]
    }
   ],
   "source": [
    "digits = [0, 1, 5]\n",
    "\n",
    "for i in digits:\n",
    "    print(i)\n",
    "else:\n",
    "    print(\"Tidak ada elemen yang tersisa.\")"
   ]
  },
  {
   "cell_type": "markdown",
   "id": "consolidated-liquid",
   "metadata": {},
   "source": [
    "Ketika iterasi berjalan maka akan dilakukan print item hingga iterasi selesai. Ketika iterasi pada sequence selesai baru perintah pada blok else dijalankan yaitu print Tidak ada elemen yang tersisa .\n",
    "\n",
    "Statement for ... else dapat digunakan bersama dengan keyword break untuk menjalankan blok else hanya ketika break tidak dieksekusi. Lihat contoh berikut:"
   ]
  },
  {
   "cell_type": "code",
   "execution_count": 6,
   "id": "valued-blond",
   "metadata": {},
   "outputs": [
    {
     "name": "stdout",
     "output_type": "stream",
     "text": [
      "Tidak ada data nilai atas nama Butet !\n"
     ]
    }
   ],
   "source": [
    "# Program untuk menampilkan nilai tugas siswa.\n",
    "nama_siswa = 'Butet'\n",
    "\n",
    "daftar_nilai = {'Bambang': 90, 'Andri': 55, 'Candra': 77}\n",
    "\n",
    "for siswa in daftar_nilai:\n",
    "    if siswa == nama_siswa:\n",
    "        print(daftar_nilai[siswa])\n",
    "        break\n",
    "else:\n",
    "    print('Tidak ada data nilai atas nama', nama_siswa, '!')"
   ]
  },
  {
   "cell_type": "markdown",
   "id": "matched-punishment",
   "metadata": {},
   "source": [
    "# While Loop"
   ]
  },
  {
   "cell_type": "markdown",
   "id": "american-permit",
   "metadata": {},
   "source": [
    "While loop pada Python digunakan untuk melakukan iterasi pada blok kode selama nilai dari test expression adalah true .\n",
    "\n",
    "Looping ini biasanya digunakan ketika kita tidak tau berapa kali iterasi akan dilakukan hingga sebuah kondisi yang diinginkan dapat dicapai.\n",
    "\n",
    "**Syntax of while Loop in Python**\n",
    "\n",
    "    while test_expression:\n",
    "        Body of while\n",
    "\n",
    "Pada loop while, test expression justru dicheck pertama kali. Kemudian statement - statement di dalam body of while akan dieksekusi jika nilai dari test expression adalah true . Setelah satu iterasi dijalankan, test expression dicek kembali. Proses ini terus berlanjut hingga nilai evaluasi dari test expression adalah False .\n",
    "\n",
    "Pada Python, bagian body pada loop while dituliskan menggunakan indentasi.\n",
    "\n",
    "Sebagai catatan tambahan bahwa Python menginterpretasikan non-zero values sebagai True . None dan 0 diinterpretasikan sebagai False .\n",
    "\n",
    "**While Loop Flowchart**"
   ]
  },
  {
   "attachments": {
    "Screenshot%202021-09-30%20222327.jpg": {
     "image/jpeg": "[encoded data removed]"
    }
   },
   "cell_type": "markdown",
   "id": "inside-healing",
   "metadata": {},
   "source": [
    "![Screenshot%202021-09-30%20222327.jpg](attachment:Screenshot%202021-09-30%20222327.jpg)"
   ]
  },
  {
   "cell_type": "markdown",
   "id": "imported-syndication",
   "metadata": {},
   "source": [
    "**Example: Python while Loop**"
   ]
  },
  {
   "cell_type": "code",
   "execution_count": 7,
   "id": "false-taxation",
   "metadata": {},
   "outputs": [
    {
     "name": "stdout",
     "output_type": "stream",
     "text": [
      "jumlahan = 55\n"
     ]
    }
   ],
   "source": [
    "# Program untuk menjumlahkan semua\n",
    "# bilangan asli hingga suku ke-n\n",
    "# jumlahan = 1+2+3+...+n\n",
    "\n",
    "n = 10\n",
    "\n",
    "# nilai awal penjumlahan dan iterasi\n",
    "jumlahan = 0\n",
    "i = 1\n",
    "\n",
    "while i <= n:\n",
    "    jumlahan = jumlahan + i\n",
    "    i = i+1 # update iterasi\n",
    "\n",
    "# cetak hasil penjumlahan\n",
    "print(\"jumlahan =\", jumlahan)"
   ]
  },
  {
   "cell_type": "markdown",
   "id": "black-train",
   "metadata": {},
   "source": [
    "Pada program di atas, test expression akan bernilai True selama nilai iterasi i kurang dari atau sama dengan n .\n",
    "\n",
    "Kita perlu mengupdate nilai dari variabel pencatat iterasi i agar iterasi tidak berlangsung secara terus menerus(infinity loop).\n",
    "\n",
    "**While loop with else**\n",
    "\n",
    "Sama dengan for loop kita juga dapat mengkombinasikan while loop dengan blok else .\n",
    "\n",
    "Bagian else akan dieksekusi jika nilai pada test expression pada pada while loop bernilai False . Perhatikan contoh berikut:"
   ]
  },
  {
   "cell_type": "code",
   "execution_count": 8,
   "id": "patent-brave",
   "metadata": {},
   "outputs": [
    {
     "name": "stdout",
     "output_type": "stream",
     "text": [
      "Di dalam Loop\n",
      "Di dalam Loop\n",
      "Di dalam Loop\n",
      "Di dalam else\n"
     ]
    }
   ],
   "source": [
    "counter = 0\n",
    "\n",
    "while counter < 3:\n",
    "    print(\"Di dalam Loop\")\n",
    "    counter = counter + 1\n",
    "else:\n",
    "    print(\"Di dalam else\")"
   ]
  },
  {
   "cell_type": "markdown",
   "id": "thrown-metadata",
   "metadata": {},
   "source": [
    "# Contoh penggunaan Perulangan"
   ]
  },
  {
   "cell_type": "markdown",
   "id": "closing-station",
   "metadata": {},
   "source": [
    "**Contoh 1:**\n",
    "    \n",
    "Diberikan list_tagihan . Kamu diminta untuk menghitung jumlah seluruh tagihan!. Gunakan looping for untuk menyelesaikan tugas ini! Simpan hasilnya pada variabel total_tagihan !\n",
    "    \n",
    "    list_tagihan = [50000, 75000, -150000, 125000, 300000, -50000, 200000]"
   ]
  },
  {
   "cell_type": "code",
   "execution_count": 10,
   "id": "legitimate-transcript",
   "metadata": {},
   "outputs": [
    {
     "name": "stdout",
     "output_type": "stream",
     "text": [
      "550000\n"
     ]
    }
   ],
   "source": [
    "list_tagihan = [50000, 75000, -150000, 125000, 300000, -50000, 200000]\n",
    "total_tagihan = 0\n",
    "for tagihan in list_tagihan: # untuk setiap tagihan dalam list_tagihan\n",
    "    total_tagihan += tagihan # tambahkan tagihan ke total_tagihan\n",
    "print(total_tagihan)"
   ]
  },
  {
   "cell_type": "markdown",
   "id": "national-blame",
   "metadata": {},
   "source": [
    "**Contoh 2:**\n",
    "\n",
    "Diberikan list_tagihan . Kamu diminta untuk menghitung jumlah seluruh tagihan!. Gunakan looping for untuk menyelesaikan tugas ini! Simpan hasilnya pada variabel total_tagihan !\n",
    "\n",
    "    list_tagihan = [50000, 75000, -150000, 125000, 300000, -50000, 200000]\n",
    "\n",
    "Perhatikan bahwa, terdapat nilai tagihan yang negatif. Hentikan perhitungan total_tagihan jika menemukan nilai negatif!"
   ]
  },
  {
   "cell_type": "code",
   "execution_count": 11,
   "id": "freelance-pontiac",
   "metadata": {},
   "outputs": [
    {
     "name": "stdout",
     "output_type": "stream",
     "text": [
      "terdapat angka minus dalam tagihan, perhitungan dihentikan!\n",
      "125000\n"
     ]
    }
   ],
   "source": [
    "list_tagihan = [50000, 75000, -150000, 125000, 300000, -50000, 200000]\n",
    "total_tagihan = 0\n",
    "for tagihan in list_tagihan:\n",
    "    if tagihan < 0:\n",
    "        print(\"terdapat angka minus dalam tagihan, perhitungan dihentikan!\")\n",
    "        break\n",
    "    total_tagihan += tagihan\n",
    "print(total_tagihan)"
   ]
  },
  {
   "cell_type": "markdown",
   "id": "laden-split",
   "metadata": {},
   "source": [
    "**Contoh 3:**\n",
    "\n",
    "Diberikan list_cash_flow kamu diminta untuk melakukan penghitungan total_pemasukan dan total_pengeluaran menggunakan looping for . Untuk nilai positif berarti adalah pemasukan dan nilai negatif berarti adalah pengeluaran.\n",
    "\n",
    "    list_cash_flow = [2500000, 5000000, -1000000, -2500000, 5000000, 10000000, -5000000, 7500000, 10000000, -1500000, 25000000, -2500000]"
   ]
  },
  {
   "cell_type": "code",
   "execution_count": 12,
   "id": "liked-theme",
   "metadata": {},
   "outputs": [
    {
     "name": "stdout",
     "output_type": "stream",
     "text": [
      "12500000\n",
      "65000000\n"
     ]
    }
   ],
   "source": [
    "list_cash_flow = [\n",
    "2500000, 5000000, -1000000, -2500000, 5000000, 10000000,\n",
    "-5000000, 7500000, 10000000, -1500000, 25000000, -2500000\n",
    "]\n",
    "total_pengeluaran, total_pemasukan = 0, 0\n",
    "for dana in list_cash_flow:\n",
    "    if dana > 0:\n",
    "        total_pemasukan += dana\n",
    "    else:\n",
    "        total_pengeluaran += dana\n",
    "total_pengeluaran *= -1\n",
    "print(total_pengeluaran)\n",
    "print(total_pemasukan)"
   ]
  },
  {
   "cell_type": "markdown",
   "id": "special-connectivity",
   "metadata": {},
   "source": [
    "# Latihan"
   ]
  },
  {
   "cell_type": "markdown",
   "id": "sophisticated-translation",
   "metadata": {},
   "source": [
    "1. Buatlah fungsi untuk menghitung diskon suatu pembayaran belanjaan dengan input berupa dictionary untuk daftar harga dan dictionary untuk daftar belanjaan!\n",
    "\n",
    "Contoh:\n",
    "\n",
    "    daftar_harga = {'telur/kg':20000, 'gula_pasir/kg':16000, 'teh/bks':4000}\n",
    "    daftar_belanjaan = {'telur':2, 'gula_pasir':5}\n",
    "    jumlah_bayar = pembayaran(daftar_harga, daftar_belanjaan)\n",
    "\n",
    "Output\n",
    "\n",
    "    120000"
   ]
  },
  {
   "cell_type": "code",
   "execution_count": 1,
   "id": "4de008c8",
   "metadata": {},
   "outputs": [
    {
     "name": "stdout",
     "output_type": "stream",
     "text": [
      "84000.0\n"
     ]
    }
   ],
   "source": [
    "daftar_harga = {'telur': 20000, 'gula_pasir': 16000, 'teh': 4000}\n",
    "daftar_belanjaan = {'telur': 2, 'gula_pasir': 5}\n",
    "\n",
    "def pembayaran(daftar_harga, daftar_belanjaan):\n",
    "  total = 0\n",
    "  for barang in daftar_harga:\n",
    "    for jml_beli in daftar_belanjaan:\n",
    "      if barang == jml_beli:\n",
    "        total += daftar_harga[barang]*daftar_belanjaan[jml_beli]\n",
    "  diskon = total-total*0.3\n",
    "  return diskon\n",
    "\n",
    "jumlah_bayar = pembayaran(daftar_harga, daftar_belanjaan)\n",
    "print(jumlah_bayar)"
   ]
  },
  {
   "cell_type": "code",
   "execution_count": null,
   "id": "4b8a64a5",
   "metadata": {},
   "outputs": [],
   "source": []
  }
 ],
 "metadata": {
  "kernelspec": {
   "display_name": "Python 3",
   "language": "python",
   "name": "python3"
  },
  "language_info": {
   "codemirror_mode": {
    "name": "ipython",
    "version": 3
   },
   "file_extension": ".py",
   "mimetype": "text/x-python",
   "name": "python",
   "nbconvert_exporter": "python",
   "pygments_lexer": "ipython3",
   "version": "3.9.7"
  }
 },
 "nbformat": 4,
 "nbformat_minor": 5
}
