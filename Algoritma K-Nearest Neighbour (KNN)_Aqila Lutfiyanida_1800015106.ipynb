{
 "cells": [
  {
   "cell_type": "markdown",
   "id": "44da0648",
   "metadata": {},
   "source": [
    "# Pembuka"
   ]
  },
  {
   "cell_type": "markdown",
   "id": "8deef364",
   "metadata": {},
   "source": [
    "Assalamu'alaikum warahmatullahi wabarakatuh. Puji syukur kehadirat Allah Subhana Wata'ala atas limpahan Rahmat dan HidayahNya kepada kita semua. Sholawat serta salam senantiasa tercurah limpahkan kepada baginda Muhammad Rasulullah Salallahualaihiwassalam.\n",
    "\n",
    "Halo para **Pejuang Data**. Selamat berjumpa di pertemuan ketiga Program Training **Algoritma Machine Learning** Kelas Mahir.\n",
    "Pada pertemuan ini kamu akan belajar:\n",
    "* Algoritma KNN\n",
    "* Contoh Perhitungan Manual Algoritma KNN\n",
    "* KNN Python From Scratch"
   ]
  },
  {
   "cell_type": "markdown",
   "id": "50e746df",
   "metadata": {},
   "source": [
    "# Algoritma K-Nearest Neighbor(KNN)"
   ]
  },
  {
   "cell_type": "markdown",
   "id": "794c1bd5",
   "metadata": {},
   "source": [
    "Algoritma K-Nearest Neighbors adalah algoritma Machine Learning yang melakukan klasifikasi sebuah data didasarkan pada sifat-sifat data didekatnya. Sebuah ungkapan yang bisa membantu dengan mudah memahami ide dasar dari algoritma ini adalah: \"Jika kamu ingin mengetahui sifat seseorang, lihatlah sifat-sifat orang terdekatnya. Sifatnya tidak akan jauh berbeda dari mereka\".\n",
    "\n",
    "Gambar di bawah ini dapat mengilustrasikan hal di atas dengan jelas."
   ]
  },
  {
   "attachments": {
    "Screenshot%202021-10-16%20102529.jpg": {
     "image/jpeg": "[encoded data removed]"
    }
   },
   "cell_type": "markdown",
   "id": "33a3d4ff",
   "metadata": {},
   "source": [
    "![Screenshot%202021-10-16%20102529.jpg](attachment:Screenshot%202021-10-16%20102529.jpg)"
   ]
  },
  {
   "cell_type": "markdown",
   "id": "8e360a52",
   "metadata": {},
   "source": [
    "Data baru yang dilmbangkan dengan simbol segitiga biru dapat diklasifikasikan sebagai kelompok kotak hijau atau bintang merah jambu. Jika dilihat berdasarkan kriteria jumlah k=1 maka data segitiga biru diklasifikasikan ke dalam kelompok kotak hijau. Sedangkan jika dilihat berdasarkan kriteria jumlah k=3 maka data tersebut maka diklasifikasikan sebagai kelompok bintang merah jambu. Hal yang sama juga dapat diterapkan untuk k=9. Sebenarnya, kita telah melakukan klasifikasi berdasarkan jarak. Kedekatan yang dimaksud ketika k=1, k=3, dan k=9, kita selalu mengukur kedekatan antara data baru(segitiga biru) dengan data-data berlabel kelompok sebelumnya. Berdasarkan ide dasar di atas, maka diturunkanlah dalam sebuah algoritma untuk menentukan kelompok data dari sebuah inputan data baru(segitiga biru)."
   ]
  },
  {
   "cell_type": "markdown",
   "id": "51905190",
   "metadata": {},
   "source": [
    "# Algoritma KNN"
   ]
  },
  {
   "cell_type": "markdown",
   "id": "84af1747",
   "metadata": {},
   "source": [
    "1. Menentukan parameter k (jumlah tetangga paling dekat).\n",
    "2. Menghitung jarak eucliden objek terhadap data training yang diberikan.\n",
    "3. Mengurutkan hasil no 2 secara ascending (berurutan dari nilai tinggi ke rendah)\n",
    "4. Mengumpulkan kategori data (Klasifikasi nearest neighbor berdasarkan nilai k)\n",
    "5. Dengan menggunakan kategori nearest neighbor yang paling mayoritas maka dapat dipredisikan kategori objek."
   ]
  },
  {
   "cell_type": "markdown",
   "id": "a1fcd2bf",
   "metadata": {},
   "source": [
    "# Contoh Perhitungan K-Nearest Neighbor"
   ]
  },
  {
   "cell_type": "markdown",
   "id": "1b436952",
   "metadata": {},
   "source": [
    "Diketahui data $x_1$ dan $x_2$ adalah sebagai berikut: "
   ]
  },
  {
   "cell_type": "markdown",
   "id": "cffcc428",
   "metadata": {},
   "source": [
    "\\begin{matrix}\n",
    "x_1 & x_2 & \\text{Kelas} \\\\\n",
    "1 & 1 & 0 \\\\\n",
    "2 & 2 & 0 \\\\\n",
    "3 & 2 & 0 \\\\\n",
    "12 & 11 & 1 \\\\\n",
    "11 & 13 & 1 \\\\\n",
    "14 & 15 & 1 \\\\\n",
    "\\end{matrix}"
   ]
  },
  {
   "cell_type": "markdown",
   "id": "1f422746",
   "metadata": {},
   "source": [
    "Kita diminta menentukan kelas dari data baru yaitu (9,10) dengan parameter k=3"
   ]
  },
  {
   "cell_type": "markdown",
   "id": "83842961",
   "metadata": {},
   "source": [
    "**Langkah 1:**\n",
    "\n",
    "Menentukan parameter k (jumlah tetangga paling dekat)\n",
    "\n",
    "k=3"
   ]
  },
  {
   "cell_type": "markdown",
   "id": "2b113d5e",
   "metadata": {},
   "source": [
    "**Langkah 2:**\n",
    "\n",
    "Menghitung jarak eucliden objek terhadap data training yang diberikan.\n",
    "\n",
    "Formula jarak Euclidean:"
   ]
  },
  {
   "cell_type": "markdown",
   "id": "d643b779",
   "metadata": {},
   "source": [
    "$$ d_1 = \\sqrt{(x1_i - x1_j)^2 + (x2_i - x2_j)^2} \\text{untuk} i,j = 1,2,3,...,n $$"
   ]
  },
  {
   "cell_type": "markdown",
   "id": "e61556a3",
   "metadata": {},
   "source": [
    "\\begin{matrix}\n",
    "x_1 & x_2 & \\text{Jarak Euclidean dengan (9, 10)} \\\\\n",
    "1 & 1 & \\sqrt{(9-1)^2 + (10-1)^2} = 12.04 \\\\\n",
    "2 & 2 & \\sqrt{(9-2)^2+ (10-2)^2} = 10.63 \\\\\n",
    "3 & 2 & \\sqrt{(9-3)^2+ (10-2)^2} = 10 \\\\\n",
    "12 & 11 & \\sqrt{(9-12)^2+ (10-11)^2} = 3.16 \\\\\n",
    "11 & 13 & \\sqrt{(9-11)^2+ (10-13)^2} = 3.60 \\\\\n",
    "14 & 15 & \\sqrt{(9-14)^2+ (10-15)^2} = 7.07 \\\\\n",
    "\\end{matrix}"
   ]
  },
  {
   "cell_type": "markdown",
   "id": "e486a9dd",
   "metadata": {},
   "source": [
    "**Langkah 3:**\n",
    "\n",
    "Mengurutkan hasil langkah 2 secara ascending (berurutan dari nilai tinggi ke rendah)"
   ]
  },
  {
   "cell_type": "markdown",
   "id": "30527263",
   "metadata": {},
   "source": [
    "\\begin{matrix}\n",
    "x_1 & x_2 & \\text{Jarak Euclidean dengan (9, 10)} & \\text{Urutan(Jarak terpendek)}\\\\\n",
    "1 & 1 & \\sqrt{(9-1)^2 + (10-1)^2} = 12.04 & 6 \\\\\n",
    "2 & 2 & \\sqrt{(9-2)^2+ (10-2)^2} = 10.63 & 5 \\\\\n",
    "3 & 2 & \\sqrt{(9-3)^2+ (10-2)^2} = 10 & 4\\\\\n",
    "12 & 11 & \\sqrt{(9-12)^2+ (10-11)^2} = 3.16 & 1\\\\\n",
    "11 & 13 & \\sqrt{(9-11)^2+ (10-13)^2} = 3.60 & 2\\\\\n",
    "14 & 15 & \\sqrt{(9-14)^2+ (10-15)^2} = 7.07 & 3\\\\\n",
    "\\end{matrix}"
   ]
  },
  {
   "cell_type": "markdown",
   "id": "fa2f37dc",
   "metadata": {},
   "source": [
    "**Langkah 4:**\n",
    "\n",
    "Mengumpulkan kategori data (Klasifikasi nearest neighbor berdasarkan nilai k)\n",
    "\n",
    "Kelas data 3 data terdekat(k=3)\n",
    "\n",
    "(12,11) = 1, (11,13) = 1, (14,15) = 1"
   ]
  },
  {
   "cell_type": "markdown",
   "id": "5086536b",
   "metadata": {},
   "source": [
    "**Langkah 5**: Dengan menggunakan kategori nearest neighbor yang paling mayoritas maka dapat dipredisikan kategori objek.\n",
    "\n",
    "Kelas data untuk k=3\n",
    "\n",
    "'0'=0, '1'=3\n",
    "\n",
    "Maka disimpulkan bahwa data (9,10) diklasifikasikan ke kelas '1'."
   ]
  },
  {
   "cell_type": "markdown",
   "id": "f03c883c",
   "metadata": {},
   "source": [
    "# KNN Python From Scratch"
   ]
  },
  {
   "cell_type": "markdown",
   "id": "f093e6fa",
   "metadata": {},
   "source": [
    "## Membangun Model KNN"
   ]
  },
  {
   "cell_type": "markdown",
   "id": "e6462bce",
   "metadata": {},
   "source": [
    "Pertama, import library python yang dibutuhkan yaitu:\n",
    "* Numpy\n",
    "* Pandas\n",
    "* Matplotlib"
   ]
  },
  {
   "cell_type": "code",
   "execution_count": 36,
   "id": "57759601",
   "metadata": {},
   "outputs": [],
   "source": [
    "import numpy as np\n",
    "import pandas as pd\n",
    "import matplotlib.pyplot as plt\n",
    "%matplotlib inline"
   ]
  },
  {
   "cell_type": "markdown",
   "id": "09033baa",
   "metadata": {},
   "source": [
    "Untuk memahami konsep, kita akan menggunakan data X dan Y seperti yang kita tunjukkan pada proses penghitungan manual."
   ]
  },
  {
   "cell_type": "code",
   "execution_count": 37,
   "id": "33040d61",
   "metadata": {},
   "outputs": [],
   "source": [
    "X=np.array([[1,1], [2,2], [3,2], [12,11], [11,13], [14,15]])\n",
    "y=np.array([0,0,0,1,1,1])\n",
    "x_baru=np.array([9,10])"
   ]
  },
  {
   "cell_type": "code",
   "execution_count": 38,
   "id": "3b28b6c4",
   "metadata": {},
   "outputs": [
    {
     "data": {
      "text/plain": [
       "array([[ 1,  1],\n",
       "       [ 2,  2],\n",
       "       [ 3,  2],\n",
       "       [12, 11],\n",
       "       [11, 13],\n",
       "       [14, 15]])"
      ]
     },
     "execution_count": 38,
     "metadata": {},
     "output_type": "execute_result"
    }
   ],
   "source": [
    "X"
   ]
  },
  {
   "cell_type": "code",
   "execution_count": 39,
   "id": "12e5bce3",
   "metadata": {},
   "outputs": [
    {
     "data": {
      "text/plain": [
       "array([0, 0, 0, 1, 1, 1])"
      ]
     },
     "execution_count": 39,
     "metadata": {},
     "output_type": "execute_result"
    }
   ],
   "source": [
    "y"
   ]
  },
  {
   "cell_type": "code",
   "execution_count": 40,
   "id": "1bbd7d11",
   "metadata": {},
   "outputs": [
    {
     "data": {
      "text/plain": [
       "array([ 9, 10])"
      ]
     },
     "execution_count": 40,
     "metadata": {},
     "output_type": "execute_result"
    }
   ],
   "source": [
    "x_baru"
   ]
  },
  {
   "cell_type": "markdown",
   "id": "90ce1718",
   "metadata": {},
   "source": [
    "**Langkah 1:**\n",
    "\n",
    "Menentukan parameter k (jumlah tetangga paling dekat)"
   ]
  },
  {
   "cell_type": "code",
   "execution_count": 41,
   "id": "5b88cc69",
   "metadata": {},
   "outputs": [],
   "source": [
    "k=3"
   ]
  },
  {
   "cell_type": "markdown",
   "id": "5fc3c667",
   "metadata": {},
   "source": [
    "**Langkah 2:**\n",
    "\n",
    "Menghitung kuadrat jarak eucliden objek terhadap data training yang diberikan."
   ]
  },
  {
   "cell_type": "code",
   "execution_count": 42,
   "id": "bb6a6266",
   "metadata": {},
   "outputs": [],
   "source": [
    "def jarak_euclidean(x,y):\n",
    "    return np.sqrt(sum(pow(a-b, 2) for a, b in zip(x,y)))"
   ]
  },
  {
   "cell_type": "code",
   "execution_count": 43,
   "id": "cadf72b3",
   "metadata": {},
   "outputs": [
    {
     "name": "stdout",
     "output_type": "stream",
     "text": [
      "[12.041594578792296]\n",
      "[12.041594578792296, 10.63014581273465]\n",
      "[12.041594578792296, 10.63014581273465, 10.0]\n",
      "[12.041594578792296, 10.63014581273465, 10.0, 3.1622776601683795]\n",
      "[12.041594578792296, 10.63014581273465, 10.0, 3.1622776601683795, 3.605551275463989]\n",
      "[12.041594578792296, 10.63014581273465, 10.0, 3.1622776601683795, 3.605551275463989, 7.0710678118654755]\n",
      "[12.041594578792296, 10.63014581273465, 10.0, 3.1622776601683795, 3.605551275463989, 7.0710678118654755]\n"
     ]
    }
   ],
   "source": [
    "jarak=[]\n",
    "for x_i in X:\n",
    "    jarak_euclid=jarak_euclidean(x_i,x_baru)\n",
    "    jarak.append(jarak_euclid)\n",
    "    print(jarak)\n",
    "print(jarak)"
   ]
  },
  {
   "cell_type": "markdown",
   "id": "0335ea16",
   "metadata": {},
   "source": [
    "**Langkah 3:**\n",
    "\n",
    "Mengurutkan hasil langkah 2 secara ascending (berurutan dari nilai tinggi ke rendah)"
   ]
  },
  {
   "cell_type": "code",
   "execution_count": 44,
   "id": "48b65f3a",
   "metadata": {},
   "outputs": [
    {
     "name": "stdout",
     "output_type": "stream",
     "text": [
      "[3.1622776601683795, 3.605551275463989, 7.0710678118654755, 10.0, 10.63014581273465, 12.041594578792296]\n"
     ]
    }
   ],
   "source": [
    "urut=np.sort(jarak)\n",
    "list_urut=[]\n",
    "for i in range(len(urut)):\n",
    "    list_urut.append(urut[i])\n",
    "print(list_urut)"
   ]
  },
  {
   "cell_type": "code",
   "execution_count": 45,
   "id": "20c738a7",
   "metadata": {},
   "outputs": [
    {
     "name": "stdout",
     "output_type": "stream",
     "text": [
      "[3, 4, 5, 2, 1, 0]\n"
     ]
    }
   ],
   "source": [
    "urutan=[]\n",
    "for i in list_urut:\n",
    "    urtn=jarak.index(i)\n",
    "    urutan.append(urtn)\n",
    "print(urutan)"
   ]
  },
  {
   "cell_type": "markdown",
   "id": "06064c10",
   "metadata": {},
   "source": [
    "atau dengan sederhana dapat menggunakan np.argsort seperti berikut:"
   ]
  },
  {
   "cell_type": "code",
   "execution_count": 46,
   "id": "9cc206d3",
   "metadata": {},
   "outputs": [
    {
     "data": {
      "text/plain": [
       "array([3, 4, 5, 2, 1, 0], dtype=int64)"
      ]
     },
     "execution_count": 46,
     "metadata": {},
     "output_type": "execute_result"
    }
   ],
   "source": [
    "np.argsort(jarak)"
   ]
  },
  {
   "cell_type": "markdown",
   "id": "ca6064a2",
   "metadata": {},
   "source": [
    "**Langkah 4:**\n",
    "\n",
    "Mengumpulkan kategori data (Klasifikasi nearest neighbor berdasarkan nilai k)\n",
    "\n",
    "Kelas data 3 data terdekat(k=3)"
   ]
  },
  {
   "cell_type": "code",
   "execution_count": 47,
   "id": "2144ed47",
   "metadata": {},
   "outputs": [
    {
     "name": "stdout",
     "output_type": "stream",
     "text": [
      "[1 1 1]\n"
     ]
    }
   ],
   "source": [
    "ambil=urutan[:k]\n",
    "print(y[ambil])"
   ]
  },
  {
   "cell_type": "markdown",
   "id": "4004d07c",
   "metadata": {},
   "source": [
    "**Langkah 5:**\n",
    "\n",
    "Dengan menggunakan kategori nearest neighbor yang paling mayoritas maka dapat dipredisikan kategori objek."
   ]
  },
  {
   "cell_type": "code",
   "execution_count": 48,
   "id": "e981ad4c",
   "metadata": {},
   "outputs": [
    {
     "data": {
      "text/plain": [
       "[(1, 3)]"
      ]
     },
     "execution_count": 48,
     "metadata": {},
     "output_type": "execute_result"
    }
   ],
   "source": [
    "from collections import Counter\n",
    "kelas_paling_banyak = Counter(y[ambil]).most_common(1)\n",
    "kelas_paling_banyak"
   ]
  },
  {
   "cell_type": "code",
   "execution_count": 49,
   "id": "fdf0f67e",
   "metadata": {},
   "outputs": [
    {
     "data": {
      "text/plain": [
       "1"
      ]
     },
     "execution_count": 49,
     "metadata": {},
     "output_type": "execute_result"
    }
   ],
   "source": [
    "kelas_paling_banyak[0][0]"
   ]
  },
  {
   "cell_type": "code",
   "execution_count": 50,
   "id": "9dc9907d",
   "metadata": {},
   "outputs": [
    {
     "data": {
      "image/png": "[encoded data removed]",
      "text/plain": [
       "<Figure size 432x288 with 1 Axes>"
      ]
     },
     "metadata": {
      "needs_background": "light"
     },
     "output_type": "display_data"
    }
   ],
   "source": [
    "# Plot Data\n",
    "df = pd.DataFrame(X, columns =['x1', 'x2'])\n",
    "colormap = np.array(['g', 'b'])\n",
    "label=['A', 'A', 'A', 'B', 'B', 'B']\n",
    "# Plot Titik Data\n",
    "plt.scatter(df['x1'], df['x2'], color=colormap[y])\n",
    "\n",
    "plt.scatter(x_baru[0], x_baru[1], color='r', label='Data Baru')\n",
    "# Label sumbu\n",
    "plt.xlabel('x_1')\n",
    "\n",
    "# Label sumbu y\n",
    "plt.ylabel('x_2')\n",
    "\n",
    "# Menampilkan Legenda\n",
    "plt.legend()\n",
    "\n",
    "# Menampilkan Gambar Hasil Plot\n",
    "plt.show()"
   ]
  },
  {
   "cell_type": "markdown",
   "id": "fa9ff33b",
   "metadata": {},
   "source": [
    "Maka disimpulkan bahwa data (9,10) diklasifikasikan ke kelas '1'."
   ]
  },
  {
   "cell_type": "markdown",
   "id": "9692cd00",
   "metadata": {},
   "source": [
    "# Implementasi Model KNN Pada Data Real"
   ]
  },
  {
   "cell_type": "markdown",
   "id": "06a1836c",
   "metadata": {},
   "source": [
    "Kita akan menggunakan dataset Iris yang tersedia di sklearn dataset."
   ]
  },
  {
   "cell_type": "code",
   "execution_count": 51,
   "id": "a3de657c",
   "metadata": {},
   "outputs": [
    {
     "data": {
      "text/plain": [
       "{'data': array([[5.1, 3.5, 1.4, 0.2],\n",
       "        [4.9, 3. , 1.4, 0.2],\n",
       "        [4.7, 3.2, 1.3, 0.2],\n",
       "        [4.6, 3.1, 1.5, 0.2],\n",
       "        [5. , 3.6, 1.4, 0.2],\n",
       "        [5.4, 3.9, 1.7, 0.4],\n",
       "        [4.6, 3.4, 1.4, 0.3],\n",
       "        [5. , 3.4, 1.5, 0.2],\n",
       "        [4.4, 2.9, 1.4, 0.2],\n",
       "        [4.9, 3.1, 1.5, 0.1],\n",
       "        [5.4, 3.7, 1.5, 0.2],\n",
       "        [4.8, 3.4, 1.6, 0.2],\n",
       "        [4.8, 3. , 1.4, 0.1],\n",
       "        [4.3, 3. , 1.1, 0.1],\n",
       "        [5.8, 4. , 1.2, 0.2],\n",
       "        [5.7, 4.4, 1.5, 0.4],\n",
       "        [5.4, 3.9, 1.3, 0.4],\n",
       "        [5.1, 3.5, 1.4, 0.3],\n",
       "        [5.7, 3.8, 1.7, 0.3],\n",
       "        [5.1, 3.8, 1.5, 0.3],\n",
       "        [5.4, 3.4, 1.7, 0.2],\n",
       "        [5.1, 3.7, 1.5, 0.4],\n",
       "        [4.6, 3.6, 1. , 0.2],\n",
       "        [5.1, 3.3, 1.7, 0.5],\n",
       "        [4.8, 3.4, 1.9, 0.2],\n",
       "        [5. , 3. , 1.6, 0.2],\n",
       "        [5. , 3.4, 1.6, 0.4],\n",
       "        [5.2, 3.5, 1.5, 0.2],\n",
       "        [5.2, 3.4, 1.4, 0.2],\n",
       "        [4.7, 3.2, 1.6, 0.2],\n",
       "        [4.8, 3.1, 1.6, 0.2],\n",
       "        [5.4, 3.4, 1.5, 0.4],\n",
       "        [5.2, 4.1, 1.5, 0.1],\n",
       "        [5.5, 4.2, 1.4, 0.2],\n",
       "        [4.9, 3.1, 1.5, 0.2],\n",
       "        [5. , 3.2, 1.2, 0.2],\n",
       "        [5.5, 3.5, 1.3, 0.2],\n",
       "        [4.9, 3.6, 1.4, 0.1],\n",
       "        [4.4, 3. , 1.3, 0.2],\n",
       "        [5.1, 3.4, 1.5, 0.2],\n",
       "        [5. , 3.5, 1.3, 0.3],\n",
       "        [4.5, 2.3, 1.3, 0.3],\n",
       "        [4.4, 3.2, 1.3, 0.2],\n",
       "        [5. , 3.5, 1.6, 0.6],\n",
       "        [5.1, 3.8, 1.9, 0.4],\n",
       "        [4.8, 3. , 1.4, 0.3],\n",
       "        [5.1, 3.8, 1.6, 0.2],\n",
       "        [4.6, 3.2, 1.4, 0.2],\n",
       "        [5.3, 3.7, 1.5, 0.2],\n",
       "        [5. , 3.3, 1.4, 0.2],\n",
       "        [7. , 3.2, 4.7, 1.4],\n",
       "        [6.4, 3.2, 4.5, 1.5],\n",
       "        [6.9, 3.1, 4.9, 1.5],\n",
       "        [5.5, 2.3, 4. , 1.3],\n",
       "        [6.5, 2.8, 4.6, 1.5],\n",
       "        [5.7, 2.8, 4.5, 1.3],\n",
       "        [6.3, 3.3, 4.7, 1.6],\n",
       "        [4.9, 2.4, 3.3, 1. ],\n",
       "        [6.6, 2.9, 4.6, 1.3],\n",
       "        [5.2, 2.7, 3.9, 1.4],\n",
       "        [5. , 2. , 3.5, 1. ],\n",
       "        [5.9, 3. , 4.2, 1.5],\n",
       "        [6. , 2.2, 4. , 1. ],\n",
       "        [6.1, 2.9, 4.7, 1.4],\n",
       "        [5.6, 2.9, 3.6, 1.3],\n",
       "        [6.7, 3.1, 4.4, 1.4],\n",
       "        [5.6, 3. , 4.5, 1.5],\n",
       "        [5.8, 2.7, 4.1, 1. ],\n",
       "        [6.2, 2.2, 4.5, 1.5],\n",
       "        [5.6, 2.5, 3.9, 1.1],\n",
       "        [5.9, 3.2, 4.8, 1.8],\n",
       "        [6.1, 2.8, 4. , 1.3],\n",
       "        [6.3, 2.5, 4.9, 1.5],\n",
       "        [6.1, 2.8, 4.7, 1.2],\n",
       "        [6.4, 2.9, 4.3, 1.3],\n",
       "        [6.6, 3. , 4.4, 1.4],\n",
       "        [6.8, 2.8, 4.8, 1.4],\n",
       "        [6.7, 3. , 5. , 1.7],\n",
       "        [6. , 2.9, 4.5, 1.5],\n",
       "        [5.7, 2.6, 3.5, 1. ],\n",
       "        [5.5, 2.4, 3.8, 1.1],\n",
       "        [5.5, 2.4, 3.7, 1. ],\n",
       "        [5.8, 2.7, 3.9, 1.2],\n",
       "        [6. , 2.7, 5.1, 1.6],\n",
       "        [5.4, 3. , 4.5, 1.5],\n",
       "        [6. , 3.4, 4.5, 1.6],\n",
       "        [6.7, 3.1, 4.7, 1.5],\n",
       "        [6.3, 2.3, 4.4, 1.3],\n",
       "        [5.6, 3. , 4.1, 1.3],\n",
       "        [5.5, 2.5, 4. , 1.3],\n",
       "        [5.5, 2.6, 4.4, 1.2],\n",
       "        [6.1, 3. , 4.6, 1.4],\n",
       "        [5.8, 2.6, 4. , 1.2],\n",
       "        [5. , 2.3, 3.3, 1. ],\n",
       "        [5.6, 2.7, 4.2, 1.3],\n",
       "        [5.7, 3. , 4.2, 1.2],\n",
       "        [5.7, 2.9, 4.2, 1.3],\n",
       "        [6.2, 2.9, 4.3, 1.3],\n",
       "        [5.1, 2.5, 3. , 1.1],\n",
       "        [5.7, 2.8, 4.1, 1.3],\n",
       "        [6.3, 3.3, 6. , 2.5],\n",
       "        [5.8, 2.7, 5.1, 1.9],\n",
       "        [7.1, 3. , 5.9, 2.1],\n",
       "        [6.3, 2.9, 5.6, 1.8],\n",
       "        [6.5, 3. , 5.8, 2.2],\n",
       "        [7.6, 3. , 6.6, 2.1],\n",
       "        [4.9, 2.5, 4.5, 1.7],\n",
       "        [7.3, 2.9, 6.3, 1.8],\n",
       "        [6.7, 2.5, 5.8, 1.8],\n",
       "        [7.2, 3.6, 6.1, 2.5],\n",
       "        [6.5, 3.2, 5.1, 2. ],\n",
       "        [6.4, 2.7, 5.3, 1.9],\n",
       "        [6.8, 3. , 5.5, 2.1],\n",
       "        [5.7, 2.5, 5. , 2. ],\n",
       "        [5.8, 2.8, 5.1, 2.4],\n",
       "        [6.4, 3.2, 5.3, 2.3],\n",
       "        [6.5, 3. , 5.5, 1.8],\n",
       "        [7.7, 3.8, 6.7, 2.2],\n",
       "        [7.7, 2.6, 6.9, 2.3],\n",
       "        [6. , 2.2, 5. , 1.5],\n",
       "        [6.9, 3.2, 5.7, 2.3],\n",
       "        [5.6, 2.8, 4.9, 2. ],\n",
       "        [7.7, 2.8, 6.7, 2. ],\n",
       "        [6.3, 2.7, 4.9, 1.8],\n",
       "        [6.7, 3.3, 5.7, 2.1],\n",
       "        [7.2, 3.2, 6. , 1.8],\n",
       "        [6.2, 2.8, 4.8, 1.8],\n",
       "        [6.1, 3. , 4.9, 1.8],\n",
       "        [6.4, 2.8, 5.6, 2.1],\n",
       "        [7.2, 3. , 5.8, 1.6],\n",
       "        [7.4, 2.8, 6.1, 1.9],\n",
       "        [7.9, 3.8, 6.4, 2. ],\n",
       "        [6.4, 2.8, 5.6, 2.2],\n",
       "        [6.3, 2.8, 5.1, 1.5],\n",
       "        [6.1, 2.6, 5.6, 1.4],\n",
       "        [7.7, 3. , 6.1, 2.3],\n",
       "        [6.3, 3.4, 5.6, 2.4],\n",
       "        [6.4, 3.1, 5.5, 1.8],\n",
       "        [6. , 3. , 4.8, 1.8],\n",
       "        [6.9, 3.1, 5.4, 2.1],\n",
       "        [6.7, 3.1, 5.6, 2.4],\n",
       "        [6.9, 3.1, 5.1, 2.3],\n",
       "        [5.8, 2.7, 5.1, 1.9],\n",
       "        [6.8, 3.2, 5.9, 2.3],\n",
       "        [6.7, 3.3, 5.7, 2.5],\n",
       "        [6.7, 3. , 5.2, 2.3],\n",
       "        [6.3, 2.5, 5. , 1.9],\n",
       "        [6.5, 3. , 5.2, 2. ],\n",
       "        [6.2, 3.4, 5.4, 2.3],\n",
       "        [5.9, 3. , 5.1, 1.8]]),\n",
       " 'target': array([0, 0, 0, 0, 0, 0, 0, 0, 0, 0, 0, 0, 0, 0, 0, 0, 0, 0, 0, 0, 0, 0,\n",
       "        0, 0, 0, 0, 0, 0, 0, 0, 0, 0, 0, 0, 0, 0, 0, 0, 0, 0, 0, 0, 0, 0,\n",
       "        0, 0, 0, 0, 0, 0, 1, 1, 1, 1, 1, 1, 1, 1, 1, 1, 1, 1, 1, 1, 1, 1,\n",
       "        1, 1, 1, 1, 1, 1, 1, 1, 1, 1, 1, 1, 1, 1, 1, 1, 1, 1, 1, 1, 1, 1,\n",
       "        1, 1, 1, 1, 1, 1, 1, 1, 1, 1, 1, 1, 2, 2, 2, 2, 2, 2, 2, 2, 2, 2,\n",
       "        2, 2, 2, 2, 2, 2, 2, 2, 2, 2, 2, 2, 2, 2, 2, 2, 2, 2, 2, 2, 2, 2,\n",
       "        2, 2, 2, 2, 2, 2, 2, 2, 2, 2, 2, 2, 2, 2, 2, 2, 2, 2]),\n",
       " 'frame': None,\n",
       " 'target_names': array(['setosa', 'versicolor', 'virginica'], dtype='<U10'),\n",
       " 'DESCR': '.. _iris_dataset:\\n\\nIris plants dataset\\n--------------------\\n\\n**Data Set Characteristics:**\\n\\n    :Number of Instances: 150 (50 in each of three classes)\\n    :Number of Attributes: 4 numeric, predictive attributes and the class\\n    :Attribute Information:\\n        - sepal length in cm\\n        - sepal width in cm\\n        - petal length in cm\\n        - petal width in cm\\n        - class:\\n                - Iris-Setosa\\n                - Iris-Versicolour\\n                - Iris-Virginica\\n                \\n    :Summary Statistics:\\n\\n    ============== ==== ==== ======= ===== ====================\\n                    Min  Max   Mean    SD   Class Correlation\\n    ============== ==== ==== ======= ===== ====================\\n    sepal length:   4.3  7.9   5.84   0.83    0.7826\\n    sepal width:    2.0  4.4   3.05   0.43   -0.4194\\n    petal length:   1.0  6.9   3.76   1.76    0.9490  (high!)\\n    petal width:    0.1  2.5   1.20   0.76    0.9565  (high!)\\n    ============== ==== ==== ======= ===== ====================\\n\\n    :Missing Attribute Values: None\\n    :Class Distribution: 33.3% for each of 3 classes.\\n    :Creator: R.A. Fisher\\n    :Donor: Michael Marshall (MARSHALL%PLU@io.arc.nasa.gov)\\n    :Date: July, 1988\\n\\nThe famous Iris database, first used by Sir R.A. Fisher. The dataset is taken\\nfrom Fisher\\'s paper. Note that it\\'s the same as in R, but not as in the UCI\\nMachine Learning Repository, which has two wrong data points.\\n\\nThis is perhaps the best known database to be found in the\\npattern recognition literature.  Fisher\\'s paper is a classic in the field and\\nis referenced frequently to this day.  (See Duda & Hart, for example.)  The\\ndata set contains 3 classes of 50 instances each, where each class refers to a\\ntype of iris plant.  One class is linearly separable from the other 2; the\\nlatter are NOT linearly separable from each other.\\n\\n.. topic:: References\\n\\n   - Fisher, R.A. \"The use of multiple measurements in taxonomic problems\"\\n     Annual Eugenics, 7, Part II, 179-188 (1936); also in \"Contributions to\\n     Mathematical Statistics\" (John Wiley, NY, 1950).\\n   - Duda, R.O., & Hart, P.E. (1973) Pattern Classification and Scene Analysis.\\n     (Q327.D83) John Wiley & Sons.  ISBN 0-471-22361-1.  See page 218.\\n   - Dasarathy, B.V. (1980) \"Nosing Around the Neighborhood: A New System\\n     Structure and Classification Rule for Recognition in Partially Exposed\\n     Environments\".  IEEE Transactions on Pattern Analysis and Machine\\n     Intelligence, Vol. PAMI-2, No. 1, 67-71.\\n   - Gates, G.W. (1972) \"The Reduced Nearest Neighbor Rule\".  IEEE Transactions\\n     on Information Theory, May 1972, 431-433.\\n   - See also: 1988 MLC Proceedings, 54-64.  Cheeseman et al\"s AUTOCLASS II\\n     conceptual clustering system finds 3 classes in the data.\\n   - Many, many more ...',\n",
       " 'feature_names': ['sepal length (cm)',\n",
       "  'sepal width (cm)',\n",
       "  'petal length (cm)',\n",
       "  'petal width (cm)'],\n",
       " 'filename': 'iris.csv',\n",
       " 'data_module': 'sklearn.datasets.data'}"
      ]
     },
     "execution_count": 51,
     "metadata": {},
     "output_type": "execute_result"
    }
   ],
   "source": [
    "from matplotlib.colors import ListedColormap\n",
    "from sklearn import datasets\n",
    "from sklearn.model_selection import train_test_split\n",
    "\n",
    "iris = datasets.load_iris()\n",
    "iris"
   ]
  },
  {
   "cell_type": "markdown",
   "id": "11f4b0ad",
   "metadata": {},
   "source": [
    "Memilih dataset X(iris.data) dan dataset y(iris.target)."
   ]
  },
  {
   "cell_type": "code",
   "execution_count": 52,
   "id": "5e43316b",
   "metadata": {},
   "outputs": [],
   "source": [
    "X, y = iris.data, iris.target"
   ]
  },
  {
   "cell_type": "markdown",
   "id": "5c152692",
   "metadata": {},
   "source": [
    "Membagi dataset menjadi data latih dan data uji"
   ]
  },
  {
   "cell_type": "code",
   "execution_count": 53,
   "id": "c9445dd4",
   "metadata": {},
   "outputs": [],
   "source": [
    "X_latih, X_uji, y_latih, y_uji = train_test_split(X, y, test_size=0.20, random_state=1234)"
   ]
  },
  {
   "cell_type": "markdown",
   "id": "eafaf6c7",
   "metadata": {},
   "source": [
    "Menuliskan algoritma KNN dalam bentuk fungsi"
   ]
  },
  {
   "cell_type": "code",
   "execution_count": 54,
   "id": "1be4ceca",
   "metadata": {},
   "outputs": [],
   "source": [
    "def _knn(x):\n",
    "    # Menghitung jarak antara x baru dengan semua sampel di data latih\n",
    "    jarak = [jarak_euclidean(x, x_latih) for x_latih in X_latih]\n",
    "    # Mengurutkan data dan mengambil sejumlah k objek\n",
    "    k_idx = np.argsort(jarak)[: k]\n",
    "    # Mengambil kelas dari k tetangga terdekat dari data latih\n",
    "    k_neighbor_labels = [y_latih[i] for i in k_idx]\n",
    "    # Mengambil kelas yang paling sering muncul\n",
    "    kelas_paling_banyak = Counter(k_neighbor_labels).most_common(1)\n",
    "    return kelas_paling_banyak[0][0]\n",
    "\n",
    "def KNN(X_latih, y_latih, k, x_baru):\n",
    "    y_pred= [_knn(x_i) for x_i in x_baru]\n",
    "    return np.array(y_pred)"
   ]
  },
  {
   "cell_type": "code",
   "execution_count": 55,
   "id": "aef4e681",
   "metadata": {},
   "outputs": [
    {
     "data": {
      "text/plain": [
       "array([1, 1, 2, 0, 1, 0, 0, 0, 1, 2, 1, 0, 2, 1, 0, 1, 2, 0, 2, 1, 1, 1,\n",
       "       1, 1, 2, 0, 2, 1, 2, 0])"
      ]
     },
     "execution_count": 55,
     "metadata": {},
     "output_type": "execute_result"
    }
   ],
   "source": [
    "y_pred=KNN(X_latih, y_latih, k, X_uji)\n",
    "y_pred"
   ]
  },
  {
   "cell_type": "code",
   "execution_count": 56,
   "id": "247fba13",
   "metadata": {},
   "outputs": [
    {
     "data": {
      "text/plain": [
       "array([1, 1, 2, 0, 1, 0, 0, 0, 1, 2, 1, 0, 2, 1, 0, 1, 2, 0, 2, 1, 1, 1,\n",
       "       1, 1, 2, 0, 2, 1, 2, 0])"
      ]
     },
     "execution_count": 56,
     "metadata": {},
     "output_type": "execute_result"
    }
   ],
   "source": [
    "y_uji"
   ]
  },
  {
   "cell_type": "markdown",
   "id": "2cfb295a",
   "metadata": {},
   "source": [
    "## Evaluasi Model"
   ]
  },
  {
   "cell_type": "markdown",
   "id": "cb83d151",
   "metadata": {},
   "source": [
    "Evaluasi model digunakan untuk melihat seberapa baik metode ini bekerja pada data uji yang diberikan. Salah satu metrik yang dapat digunakan adalah akurasi. Metrik ini menghitung jumlah hasil prediksi yang sesuai dengan label sesungguhnya kemudian dibagi dengan jumlah keseluruhan label. Menggunakan bahasa python akurasi dapat dituliskan sebagai berikut."
   ]
  },
  {
   "cell_type": "code",
   "execution_count": 33,
   "id": "2f7283f7",
   "metadata": {},
   "outputs": [],
   "source": [
    "def akurasi(y_asli, y_pred):\n",
    "    akurasi = np.sum(y_asli == y_pred) / len(y_asli)\n",
    "    return akurasi\n"
   ]
  },
  {
   "cell_type": "code",
   "execution_count": 57,
   "id": "645b9bcf",
   "metadata": {},
   "outputs": [
    {
     "data": {
      "text/plain": [
       "1.0"
      ]
     },
     "execution_count": 57,
     "metadata": {},
     "output_type": "execute_result"
    }
   ],
   "source": [
    "akurasi(y_uji , y_pred)"
   ]
  },
  {
   "cell_type": "markdown",
   "id": "99fc7cd4",
   "metadata": {},
   "source": [
    "Diperoleh hasil akurasi 1.0 artinya metode KNN dapat melakukan prediksi dengan tepat untuk semua data uji\n",
    "yang digunakan."
   ]
  }
 ],
 "metadata": {
  "kernelspec": {
   "display_name": "Python 3",
   "language": "python",
   "name": "python3"
  },
  "language_info": {
   "codemirror_mode": {
    "name": "ipython",
    "version": 3
   },
   "file_extension": ".py",
   "mimetype": "text/x-python",
   "name": "python",
   "nbconvert_exporter": "python",
   "pygments_lexer": "ipython3",
   "version": "3.9.7"
  }
 },
 "nbformat": 4,
 "nbformat_minor": 5
}
